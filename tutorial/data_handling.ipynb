{
 "cells": [
  {
   "cell_type": "code",
   "execution_count": 139,
   "metadata": {},
   "outputs": [],
   "source": [
    "import numpy as np \n",
    "import pandas as pd \n",
    "import os\n",
    "import seaborn as sns"
   ]
  },
  {
   "cell_type": "code",
   "execution_count": 140,
   "metadata": {},
   "outputs": [],
   "source": [
    "# data collection\n",
    "coffee = pd.read_csv('coffeeTruck.csv')"
   ]
  },
  {
   "cell_type": "code",
   "execution_count": 141,
   "metadata": {},
   "outputs": [
    {
     "data": {
      "text/html": [
       "<div>\n",
       "<style scoped>\n",
       "    .dataframe tbody tr th:only-of-type {\n",
       "        vertical-align: middle;\n",
       "    }\n",
       "\n",
       "    .dataframe tbody tr th {\n",
       "        vertical-align: top;\n",
       "    }\n",
       "\n",
       "    .dataframe thead th {\n",
       "        text-align: right;\n",
       "    }\n",
       "</style>\n",
       "<table border=\"1\" class=\"dataframe\">\n",
       "  <thead>\n",
       "    <tr style=\"text-align: right;\">\n",
       "      <th></th>\n",
       "      <th>Unnamed: 0</th>\n",
       "      <th>Location</th>\n",
       "      <th>Music</th>\n",
       "      <th>Price</th>\n",
       "      <th>Sales</th>\n",
       "      <th>Income</th>\n",
       "      <th>Cost</th>\n",
       "      <th>Profit</th>\n",
       "    </tr>\n",
       "  </thead>\n",
       "  <tbody>\n",
       "    <tr>\n",
       "      <th>0</th>\n",
       "      <td>1</td>\n",
       "      <td>Park</td>\n",
       "      <td>Alternative</td>\n",
       "      <td>28</td>\n",
       "      <td>64</td>\n",
       "      <td>1792</td>\n",
       "      <td>1248</td>\n",
       "      <td>544</td>\n",
       "    </tr>\n",
       "    <tr>\n",
       "      <th>1</th>\n",
       "      <td>2</td>\n",
       "      <td>Business</td>\n",
       "      <td>Alternative</td>\n",
       "      <td>35</td>\n",
       "      <td>17</td>\n",
       "      <td>595</td>\n",
       "      <td>919</td>\n",
       "      <td>-324</td>\n",
       "    </tr>\n",
       "    <tr>\n",
       "      <th>2</th>\n",
       "      <td>3</td>\n",
       "      <td>Business</td>\n",
       "      <td>Alternative</td>\n",
       "      <td>35</td>\n",
       "      <td>22</td>\n",
       "      <td>770</td>\n",
       "      <td>954</td>\n",
       "      <td>-184</td>\n",
       "    </tr>\n",
       "    <tr>\n",
       "      <th>3</th>\n",
       "      <td>4</td>\n",
       "      <td>Park</td>\n",
       "      <td>HipHop</td>\n",
       "      <td>32</td>\n",
       "      <td>30</td>\n",
       "      <td>960</td>\n",
       "      <td>1010</td>\n",
       "      <td>-50</td>\n",
       "    </tr>\n",
       "    <tr>\n",
       "      <th>4</th>\n",
       "      <td>5</td>\n",
       "      <td>Park</td>\n",
       "      <td>HipHop</td>\n",
       "      <td>35</td>\n",
       "      <td>27</td>\n",
       "      <td>945</td>\n",
       "      <td>989</td>\n",
       "      <td>-44</td>\n",
       "    </tr>\n",
       "    <tr>\n",
       "      <th>...</th>\n",
       "      <td>...</td>\n",
       "      <td>...</td>\n",
       "      <td>...</td>\n",
       "      <td>...</td>\n",
       "      <td>...</td>\n",
       "      <td>...</td>\n",
       "      <td>...</td>\n",
       "      <td>...</td>\n",
       "    </tr>\n",
       "    <tr>\n",
       "      <th>2729</th>\n",
       "      <td>2720</td>\n",
       "      <td>Park</td>\n",
       "      <td>HipHop</td>\n",
       "      <td>32</td>\n",
       "      <td>52</td>\n",
       "      <td>1664</td>\n",
       "      <td>1164</td>\n",
       "      <td>500</td>\n",
       "    </tr>\n",
       "    <tr>\n",
       "      <th>2730</th>\n",
       "      <td>2721</td>\n",
       "      <td>Park</td>\n",
       "      <td>HipHop</td>\n",
       "      <td>28</td>\n",
       "      <td>52</td>\n",
       "      <td>1456</td>\n",
       "      <td>1164</td>\n",
       "      <td>292</td>\n",
       "    </tr>\n",
       "    <tr>\n",
       "      <th>2731</th>\n",
       "      <td>2722</td>\n",
       "      <td>Park</td>\n",
       "      <td>HipHop</td>\n",
       "      <td>32</td>\n",
       "      <td>46</td>\n",
       "      <td>1472</td>\n",
       "      <td>1122</td>\n",
       "      <td>350</td>\n",
       "    </tr>\n",
       "    <tr>\n",
       "      <th>2732</th>\n",
       "      <td>2723</td>\n",
       "      <td>Park</td>\n",
       "      <td>HipHop</td>\n",
       "      <td>28</td>\n",
       "      <td>76</td>\n",
       "      <td>2128</td>\n",
       "      <td>1332</td>\n",
       "      <td>796</td>\n",
       "    </tr>\n",
       "    <tr>\n",
       "      <th>2733</th>\n",
       "      <td>2724</td>\n",
       "      <td>Park</td>\n",
       "      <td>HipHop</td>\n",
       "      <td>32</td>\n",
       "      <td>44</td>\n",
       "      <td>1408</td>\n",
       "      <td>1108</td>\n",
       "      <td>300</td>\n",
       "    </tr>\n",
       "  </tbody>\n",
       "</table>\n",
       "<p>2734 rows × 8 columns</p>\n",
       "</div>"
      ],
      "text/plain": [
       "      Unnamed: 0  Location        Music  Price  Sales  Income  Cost  Profit\n",
       "0              1      Park  Alternative     28     64    1792  1248     544\n",
       "1              2  Business  Alternative     35     17     595   919    -324\n",
       "2              3  Business  Alternative     35     22     770   954    -184\n",
       "3              4      Park       HipHop     32     30     960  1010     -50\n",
       "4              5      Park       HipHop     35     27     945   989     -44\n",
       "...          ...       ...          ...    ...    ...     ...   ...     ...\n",
       "2729        2720      Park       HipHop     32     52    1664  1164     500\n",
       "2730        2721      Park       HipHop     28     52    1456  1164     292\n",
       "2731        2722      Park       HipHop     32     46    1472  1122     350\n",
       "2732        2723      Park       HipHop     28     76    2128  1332     796\n",
       "2733        2724      Park       HipHop     32     44    1408  1108     300\n",
       "\n",
       "[2734 rows x 8 columns]"
      ]
     },
     "execution_count": 141,
     "metadata": {},
     "output_type": "execute_result"
    }
   ],
   "source": [
    "# view data\n",
    "coffee"
   ]
  },
  {
   "cell_type": "code",
   "execution_count": 142,
   "metadata": {},
   "outputs": [
    {
     "name": "stdout",
     "output_type": "stream",
     "text": [
      "<class 'pandas.core.frame.DataFrame'>\n",
      "RangeIndex: 2734 entries, 0 to 2733\n",
      "Data columns (total 8 columns):\n",
      " #   Column      Non-Null Count  Dtype \n",
      "---  ------      --------------  ----- \n",
      " 0   Unnamed: 0  2734 non-null   int64 \n",
      " 1   Location    2734 non-null   object\n",
      " 2   Music       2734 non-null   object\n",
      " 3   Price       2734 non-null   int64 \n",
      " 4   Sales       2734 non-null   int64 \n",
      " 5   Income      2734 non-null   int64 \n",
      " 6   Cost        2734 non-null   int64 \n",
      " 7   Profit      2734 non-null   int64 \n",
      "dtypes: int64(6), object(2)\n",
      "memory usage: 171.0+ KB\n"
     ]
    }
   ],
   "source": [
    "# info\n",
    "coffee.info()"
   ]
  },
  {
   "cell_type": "code",
   "execution_count": 143,
   "metadata": {},
   "outputs": [
    {
     "data": {
      "text/plain": [
       "['Unnamed: 0',\n",
       " 'Location',\n",
       " 'Music',\n",
       " 'Price',\n",
       " 'Sales',\n",
       " 'Income',\n",
       " 'Cost',\n",
       " 'Profit']"
      ]
     },
     "execution_count": 143,
     "metadata": {},
     "output_type": "execute_result"
    }
   ],
   "source": [
    "# list clumns\n",
    "list(coffee)"
   ]
  },
  {
   "cell_type": "markdown",
   "metadata": {},
   "source": [
    "#### 1. How many rows and coulumns?"
   ]
  },
  {
   "cell_type": "code",
   "execution_count": 144,
   "metadata": {},
   "outputs": [
    {
     "data": {
      "text/plain": [
       "(2734, 8)"
      ]
     },
     "execution_count": 144,
     "metadata": {},
     "output_type": "execute_result"
    }
   ],
   "source": [
    "# answers to questions (data handling)\n",
    "coffee.shape"
   ]
  },
  {
   "cell_type": "markdown",
   "metadata": {},
   "source": [
    "#### 2. List all variables"
   ]
  },
  {
   "cell_type": "code",
   "execution_count": 145,
   "metadata": {},
   "outputs": [
    {
     "data": {
      "text/plain": [
       "['Unnamed: 0',\n",
       " 'Location',\n",
       " 'Music',\n",
       " 'Price',\n",
       " 'Sales',\n",
       " 'Income',\n",
       " 'Cost',\n",
       " 'Profit']"
      ]
     },
     "execution_count": 145,
     "metadata": {},
     "output_type": "execute_result"
    }
   ],
   "source": [
    "# list clumns\n",
    "list(coffee)"
   ]
  },
  {
   "cell_type": "markdown",
   "metadata": {},
   "source": [
    "#### 3. find unique values on 'Location' variable"
   ]
  },
  {
   "cell_type": "code",
   "execution_count": 146,
   "metadata": {},
   "outputs": [],
   "source": [
    "unique_loc = coffee['Location'].unique()"
   ]
  },
  {
   "cell_type": "code",
   "execution_count": 147,
   "metadata": {},
   "outputs": [
    {
     "data": {
      "text/plain": [
       "Location\n",
       "Park        2244\n",
       "CityHall     183\n",
       "Business     165\n",
       "Zoo          142\n",
       "Name: count, dtype: int64"
      ]
     },
     "execution_count": 147,
     "metadata": {},
     "output_type": "execute_result"
    }
   ],
   "source": [
    "coffee['Location'].value_counts()"
   ]
  },
  {
   "cell_type": "markdown",
   "metadata": {},
   "source": [
    "#### 3.1. How many unique locations? "
   ]
  },
  {
   "cell_type": "code",
   "execution_count": null,
   "metadata": {},
   "outputs": [],
   "source": []
  },
  {
   "cell_type": "markdown",
   "metadata": {},
   "source": [
    "#### 4. Subset the data to include only the observations of sale at the Zoo"
   ]
  },
  {
   "cell_type": "code",
   "execution_count": 17,
   "metadata": {},
   "outputs": [],
   "source": []
  },
  {
   "cell_type": "code",
   "execution_count": 148,
   "metadata": {},
   "outputs": [],
   "source": [
    "coffee_sales = coffee.loc[coffee['Location'] == 'Zoo', :]"
   ]
  },
  {
   "cell_type": "code",
   "execution_count": 149,
   "metadata": {},
   "outputs": [
    {
     "data": {
      "text/html": [
       "<div>\n",
       "<style scoped>\n",
       "    .dataframe tbody tr th:only-of-type {\n",
       "        vertical-align: middle;\n",
       "    }\n",
       "\n",
       "    .dataframe tbody tr th {\n",
       "        vertical-align: top;\n",
       "    }\n",
       "\n",
       "    .dataframe thead th {\n",
       "        text-align: right;\n",
       "    }\n",
       "</style>\n",
       "<table border=\"1\" class=\"dataframe\">\n",
       "  <thead>\n",
       "    <tr style=\"text-align: right;\">\n",
       "      <th></th>\n",
       "      <th>Unnamed: 0</th>\n",
       "      <th>Location</th>\n",
       "      <th>Music</th>\n",
       "      <th>Price</th>\n",
       "      <th>Sales</th>\n",
       "      <th>Income</th>\n",
       "      <th>Cost</th>\n",
       "      <th>Profit</th>\n",
       "    </tr>\n",
       "  </thead>\n",
       "  <tbody>\n",
       "    <tr>\n",
       "      <th>35</th>\n",
       "      <td>35</td>\n",
       "      <td>Zoo</td>\n",
       "      <td>Alternative</td>\n",
       "      <td>32</td>\n",
       "      <td>2</td>\n",
       "      <td>64</td>\n",
       "      <td>814</td>\n",
       "      <td>-750</td>\n",
       "    </tr>\n",
       "    <tr>\n",
       "      <th>36</th>\n",
       "      <td>36</td>\n",
       "      <td>Zoo</td>\n",
       "      <td>Alternative</td>\n",
       "      <td>28</td>\n",
       "      <td>22</td>\n",
       "      <td>616</td>\n",
       "      <td>954</td>\n",
       "      <td>-338</td>\n",
       "    </tr>\n",
       "    <tr>\n",
       "      <th>1388</th>\n",
       "      <td>1382</td>\n",
       "      <td>Zoo</td>\n",
       "      <td>Alternative</td>\n",
       "      <td>35</td>\n",
       "      <td>4</td>\n",
       "      <td>140</td>\n",
       "      <td>828</td>\n",
       "      <td>-688</td>\n",
       "    </tr>\n",
       "    <tr>\n",
       "      <th>1389</th>\n",
       "      <td>1383</td>\n",
       "      <td>Zoo</td>\n",
       "      <td>Alternative</td>\n",
       "      <td>35</td>\n",
       "      <td>22</td>\n",
       "      <td>770</td>\n",
       "      <td>954</td>\n",
       "      <td>-184</td>\n",
       "    </tr>\n",
       "    <tr>\n",
       "      <th>1391</th>\n",
       "      <td>1385</td>\n",
       "      <td>Zoo</td>\n",
       "      <td>Alternative</td>\n",
       "      <td>32</td>\n",
       "      <td>40</td>\n",
       "      <td>1280</td>\n",
       "      <td>1080</td>\n",
       "      <td>200</td>\n",
       "    </tr>\n",
       "    <tr>\n",
       "      <th>...</th>\n",
       "      <td>...</td>\n",
       "      <td>...</td>\n",
       "      <td>...</td>\n",
       "      <td>...</td>\n",
       "      <td>...</td>\n",
       "      <td>...</td>\n",
       "      <td>...</td>\n",
       "      <td>...</td>\n",
       "    </tr>\n",
       "    <tr>\n",
       "      <th>2632</th>\n",
       "      <td>2623</td>\n",
       "      <td>Zoo</td>\n",
       "      <td>Alternative</td>\n",
       "      <td>28</td>\n",
       "      <td>44</td>\n",
       "      <td>1232</td>\n",
       "      <td>1108</td>\n",
       "      <td>124</td>\n",
       "    </tr>\n",
       "    <tr>\n",
       "      <th>2636</th>\n",
       "      <td>2627</td>\n",
       "      <td>Zoo</td>\n",
       "      <td>Alternative</td>\n",
       "      <td>32</td>\n",
       "      <td>44</td>\n",
       "      <td>1408</td>\n",
       "      <td>1108</td>\n",
       "      <td>300</td>\n",
       "    </tr>\n",
       "    <tr>\n",
       "      <th>2641</th>\n",
       "      <td>2632</td>\n",
       "      <td>Zoo</td>\n",
       "      <td>HipHop</td>\n",
       "      <td>28</td>\n",
       "      <td>40</td>\n",
       "      <td>1120</td>\n",
       "      <td>1080</td>\n",
       "      <td>40</td>\n",
       "    </tr>\n",
       "    <tr>\n",
       "      <th>2642</th>\n",
       "      <td>2633</td>\n",
       "      <td>Zoo</td>\n",
       "      <td>HipHop</td>\n",
       "      <td>28</td>\n",
       "      <td>53</td>\n",
       "      <td>1484</td>\n",
       "      <td>1171</td>\n",
       "      <td>313</td>\n",
       "    </tr>\n",
       "    <tr>\n",
       "      <th>2643</th>\n",
       "      <td>2634</td>\n",
       "      <td>Zoo</td>\n",
       "      <td>HipHop</td>\n",
       "      <td>28</td>\n",
       "      <td>52</td>\n",
       "      <td>1456</td>\n",
       "      <td>1164</td>\n",
       "      <td>292</td>\n",
       "    </tr>\n",
       "  </tbody>\n",
       "</table>\n",
       "<p>142 rows × 8 columns</p>\n",
       "</div>"
      ],
      "text/plain": [
       "      Unnamed: 0 Location        Music  Price  Sales  Income  Cost  Profit\n",
       "35            35      Zoo  Alternative     32      2      64   814    -750\n",
       "36            36      Zoo  Alternative     28     22     616   954    -338\n",
       "1388        1382      Zoo  Alternative     35      4     140   828    -688\n",
       "1389        1383      Zoo  Alternative     35     22     770   954    -184\n",
       "1391        1385      Zoo  Alternative     32     40    1280  1080     200\n",
       "...          ...      ...          ...    ...    ...     ...   ...     ...\n",
       "2632        2623      Zoo  Alternative     28     44    1232  1108     124\n",
       "2636        2627      Zoo  Alternative     32     44    1408  1108     300\n",
       "2641        2632      Zoo       HipHop     28     40    1120  1080      40\n",
       "2642        2633      Zoo       HipHop     28     53    1484  1171     313\n",
       "2643        2634      Zoo       HipHop     28     52    1456  1164     292\n",
       "\n",
       "[142 rows x 8 columns]"
      ]
     },
     "execution_count": 149,
     "metadata": {},
     "output_type": "execute_result"
    }
   ],
   "source": [
    "coffee_sales"
   ]
  },
  {
   "cell_type": "code",
   "execution_count": 150,
   "metadata": {},
   "outputs": [
    {
     "name": "stdout",
     "output_type": "stream",
     "text": [
      "      Unnamed: 0 Location        Music  Price  Sales  Income  Cost  Profit\n",
      "12            13     Park  Alternative     35     24     840   968    -128\n",
      "13            13     Park  Alternative     35     24     840   968    -128\n",
      "42            42     Park  Alternative     28     58    1624  1206     418\n",
      "43            42     Park  Alternative     28     58    1624  1206     418\n",
      "155          154     Park  Alternative     35     42    1470  1094     376\n",
      "156          154     Park  Alternative     35     42    1470  1094     376\n",
      "448          446     Park  Alternative     35     48    1680  1136     544\n",
      "449          446     Park  Alternative     35     48    1680  1136     544\n",
      "874          871     Park  Alternative     35     46    1610  1122     488\n",
      "875          871     Park  Alternative     35     46    1610  1122     488\n",
      "1169        1165     Park  Alternative     35     49    1715  1143     572\n",
      "1170        1165     Park  Alternative     35     49    1715  1143     572\n",
      "1171        1165     Park  Alternative     35     49    1715  1143     572\n",
      "1666        1660     Park  Alternative     32     66    2112  1262     850\n",
      "1667        1660     Park  Alternative     32     66    2112  1262     850\n",
      "2137        2130     Park  Alternative     35     24     840   968    -128\n",
      "2138        2130     Park  Alternative     35     24     840   968    -128\n",
      "2142        2134      Zoo       HipHop     28     48    1344  1136     208\n",
      "2143        2134      Zoo       HipHop     28     48    1344  1136     208\n"
     ]
    }
   ],
   "source": [
    "data_duplicates = coffee.duplicated(keep= False)\n",
    "\n",
    "print(coffee[data_duplicates])"
   ]
  },
  {
   "cell_type": "code",
   "execution_count": 151,
   "metadata": {},
   "outputs": [
    {
     "data": {
      "text/plain": [
       "False    2715\n",
       "True       19\n",
       "Name: count, dtype: int64"
      ]
     },
     "execution_count": 151,
     "metadata": {},
     "output_type": "execute_result"
    }
   ],
   "source": [
    "## count duplicates\n",
    "data_duplicates.value_counts()"
   ]
  },
  {
   "cell_type": "code",
   "execution_count": 152,
   "metadata": {},
   "outputs": [],
   "source": [
    "## drop duplicates \n",
    "coffee = coffee.drop_duplicates(keep= 'first')"
   ]
  },
  {
   "cell_type": "markdown",
   "metadata": {},
   "source": [
    "#### 5. How many rows left after drop_duplicates"
   ]
  },
  {
   "cell_type": "code",
   "execution_count": 154,
   "metadata": {},
   "outputs": [
    {
     "data": {
      "text/plain": [
       "(2724, 8)"
      ]
     },
     "execution_count": 154,
     "metadata": {},
     "output_type": "execute_result"
    }
   ],
   "source": [
    "coffee.shape"
   ]
  },
  {
   "cell_type": "markdown",
   "metadata": {},
   "source": [
    "#### 6. Sort data first by profit (ascending) then music (from Z-A)"
   ]
  },
  {
   "cell_type": "code",
   "execution_count": 155,
   "metadata": {},
   "outputs": [],
   "source": [
    "sort_profit_and_music = coffee.sort_values(by= ['Profit', 'Music'],\n",
    "                                           ascending= [True, False])"
   ]
  },
  {
   "cell_type": "code",
   "execution_count": 156,
   "metadata": {},
   "outputs": [
    {
     "data": {
      "text/html": [
       "<div>\n",
       "<style scoped>\n",
       "    .dataframe tbody tr th:only-of-type {\n",
       "        vertical-align: middle;\n",
       "    }\n",
       "\n",
       "    .dataframe tbody tr th {\n",
       "        vertical-align: top;\n",
       "    }\n",
       "\n",
       "    .dataframe thead th {\n",
       "        text-align: right;\n",
       "    }\n",
       "</style>\n",
       "<table border=\"1\" class=\"dataframe\">\n",
       "  <thead>\n",
       "    <tr style=\"text-align: right;\">\n",
       "      <th></th>\n",
       "      <th>Unnamed: 0</th>\n",
       "      <th>Location</th>\n",
       "      <th>Music</th>\n",
       "      <th>Price</th>\n",
       "      <th>Sales</th>\n",
       "      <th>Income</th>\n",
       "      <th>Cost</th>\n",
       "      <th>Profit</th>\n",
       "    </tr>\n",
       "  </thead>\n",
       "  <tbody>\n",
       "    <tr>\n",
       "      <th>2206</th>\n",
       "      <td>2197</td>\n",
       "      <td>Zoo</td>\n",
       "      <td>HipHop</td>\n",
       "      <td>32</td>\n",
       "      <td>0</td>\n",
       "      <td>0</td>\n",
       "      <td>800</td>\n",
       "      <td>-800</td>\n",
       "    </tr>\n",
       "    <tr>\n",
       "      <th>2215</th>\n",
       "      <td>2206</td>\n",
       "      <td>CityHall</td>\n",
       "      <td>HipHop</td>\n",
       "      <td>40</td>\n",
       "      <td>0</td>\n",
       "      <td>0</td>\n",
       "      <td>800</td>\n",
       "      <td>-800</td>\n",
       "    </tr>\n",
       "    <tr>\n",
       "      <th>2272</th>\n",
       "      <td>2263</td>\n",
       "      <td>Business</td>\n",
       "      <td>HipHop</td>\n",
       "      <td>40</td>\n",
       "      <td>0</td>\n",
       "      <td>0</td>\n",
       "      <td>800</td>\n",
       "      <td>-800</td>\n",
       "    </tr>\n",
       "    <tr>\n",
       "      <th>2298</th>\n",
       "      <td>2289</td>\n",
       "      <td>Business</td>\n",
       "      <td>HipHop</td>\n",
       "      <td>35</td>\n",
       "      <td>0</td>\n",
       "      <td>0</td>\n",
       "      <td>800</td>\n",
       "      <td>-800</td>\n",
       "    </tr>\n",
       "    <tr>\n",
       "      <th>2302</th>\n",
       "      <td>2293</td>\n",
       "      <td>Zoo</td>\n",
       "      <td>HipHop</td>\n",
       "      <td>40</td>\n",
       "      <td>0</td>\n",
       "      <td>0</td>\n",
       "      <td>800</td>\n",
       "      <td>-800</td>\n",
       "    </tr>\n",
       "    <tr>\n",
       "      <th>...</th>\n",
       "      <td>...</td>\n",
       "      <td>...</td>\n",
       "      <td>...</td>\n",
       "      <td>...</td>\n",
       "      <td>...</td>\n",
       "      <td>...</td>\n",
       "      <td>...</td>\n",
       "      <td>...</td>\n",
       "    </tr>\n",
       "    <tr>\n",
       "      <th>1890</th>\n",
       "      <td>1883</td>\n",
       "      <td>Park</td>\n",
       "      <td>Alternative</td>\n",
       "      <td>32</td>\n",
       "      <td>78</td>\n",
       "      <td>2496</td>\n",
       "      <td>1346</td>\n",
       "      <td>1150</td>\n",
       "    </tr>\n",
       "    <tr>\n",
       "      <th>1925</th>\n",
       "      <td>1918</td>\n",
       "      <td>Park</td>\n",
       "      <td>Alternative</td>\n",
       "      <td>32</td>\n",
       "      <td>78</td>\n",
       "      <td>2496</td>\n",
       "      <td>1346</td>\n",
       "      <td>1150</td>\n",
       "    </tr>\n",
       "    <tr>\n",
       "      <th>1454</th>\n",
       "      <td>1448</td>\n",
       "      <td>Park</td>\n",
       "      <td>Alternative</td>\n",
       "      <td>32</td>\n",
       "      <td>79</td>\n",
       "      <td>2528</td>\n",
       "      <td>1353</td>\n",
       "      <td>1175</td>\n",
       "    </tr>\n",
       "    <tr>\n",
       "      <th>1647</th>\n",
       "      <td>1641</td>\n",
       "      <td>Park</td>\n",
       "      <td>Alternative</td>\n",
       "      <td>32</td>\n",
       "      <td>79</td>\n",
       "      <td>2528</td>\n",
       "      <td>1353</td>\n",
       "      <td>1175</td>\n",
       "    </tr>\n",
       "    <tr>\n",
       "      <th>1799</th>\n",
       "      <td>1792</td>\n",
       "      <td>Park</td>\n",
       "      <td>Alternative</td>\n",
       "      <td>32</td>\n",
       "      <td>81</td>\n",
       "      <td>2592</td>\n",
       "      <td>1367</td>\n",
       "      <td>1225</td>\n",
       "    </tr>\n",
       "  </tbody>\n",
       "</table>\n",
       "<p>2724 rows × 8 columns</p>\n",
       "</div>"
      ],
      "text/plain": [
       "      Unnamed: 0  Location        Music  Price  Sales  Income  Cost  Profit\n",
       "2206        2197       Zoo       HipHop     32      0       0   800    -800\n",
       "2215        2206  CityHall       HipHop     40      0       0   800    -800\n",
       "2272        2263  Business       HipHop     40      0       0   800    -800\n",
       "2298        2289  Business       HipHop     35      0       0   800    -800\n",
       "2302        2293       Zoo       HipHop     40      0       0   800    -800\n",
       "...          ...       ...          ...    ...    ...     ...   ...     ...\n",
       "1890        1883      Park  Alternative     32     78    2496  1346    1150\n",
       "1925        1918      Park  Alternative     32     78    2496  1346    1150\n",
       "1454        1448      Park  Alternative     32     79    2528  1353    1175\n",
       "1647        1641      Park  Alternative     32     79    2528  1353    1175\n",
       "1799        1792      Park  Alternative     32     81    2592  1367    1225\n",
       "\n",
       "[2724 rows x 8 columns]"
      ]
     },
     "execution_count": 156,
     "metadata": {},
     "output_type": "execute_result"
    }
   ],
   "source": [
    "sort_profit_and_music"
   ]
  },
  {
   "cell_type": "code",
   "execution_count": 157,
   "metadata": {},
   "outputs": [],
   "source": [
    "##"
   ]
  },
  {
   "cell_type": "markdown",
   "metadata": {},
   "source": [
    "#### 7. Create a new variable named 'Indicator' that contain word 'Loss' if Profit of the day < 0 and 'Profit' if > 0 (from sorted data)"
   ]
  },
  {
   "cell_type": "code",
   "execution_count": null,
   "metadata": {},
   "outputs": [],
   "source": []
  },
  {
   "cell_type": "code",
   "execution_count": null,
   "metadata": {},
   "outputs": [],
   "source": []
  }
 ],
 "metadata": {
  "kernelspec": {
   "display_name": "base",
   "language": "python",
   "name": "python3"
  },
  "language_info": {
   "codemirror_mode": {
    "name": "ipython",
    "version": 3
   },
   "file_extension": ".py",
   "mimetype": "text/x-python",
   "name": "python",
   "nbconvert_exporter": "python",
   "pygments_lexer": "ipython3",
   "version": "3.12.7"
  }
 },
 "nbformat": 4,
 "nbformat_minor": 2
}
