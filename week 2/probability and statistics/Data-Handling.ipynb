{
 "cells": [
  {
   "cell_type": "code",
   "execution_count": null,
   "metadata": {},
   "outputs": [],
   "source": [
    "## handling data"
   ]
  },
  {
   "cell_type": "code",
   "execution_count": 1,
   "metadata": {},
   "outputs": [],
   "source": [
    "import pandas as pd\n",
    "import os"
   ]
  },
  {
   "cell_type": "code",
   "execution_count": 14,
   "metadata": {},
   "outputs": [
    {
     "name": "stdout",
     "output_type": "stream",
     "text": [
      "file exists\n"
     ]
    }
   ],
   "source": [
    "# check if file exist\n",
    "file = 'RacingGameData.csv'\n",
    "\n",
    "if os.path.exists(file):\n",
    "    print('file exists')\n",
    "\n",
    "else:\n",
    "    print('file not found')"
   ]
  },
  {
   "cell_type": "code",
   "execution_count": 8,
   "metadata": {},
   "outputs": [],
   "source": [
    "# collect data\n",
    "racing = pd.read_csv('RacingGameData.csv')"
   ]
  },
  {
   "cell_type": "code",
   "execution_count": 9,
   "metadata": {},
   "outputs": [
    {
     "data": {
      "text/html": [
       "<div>\n",
       "<style scoped>\n",
       "    .dataframe tbody tr th:only-of-type {\n",
       "        vertical-align: middle;\n",
       "    }\n",
       "\n",
       "    .dataframe tbody tr th {\n",
       "        vertical-align: top;\n",
       "    }\n",
       "\n",
       "    .dataframe thead th {\n",
       "        text-align: right;\n",
       "    }\n",
       "</style>\n",
       "<table border=\"1\" class=\"dataframe\">\n",
       "  <thead>\n",
       "    <tr style=\"text-align: right;\">\n",
       "      <th></th>\n",
       "      <th>Track</th>\n",
       "      <th>Engine</th>\n",
       "      <th>FinishTime</th>\n",
       "      <th>TopSpeedReached</th>\n",
       "      <th>TimeTo30</th>\n",
       "      <th>TimeTo60</th>\n",
       "      <th>CheckPoint1</th>\n",
       "      <th>CheckPoint2</th>\n",
       "      <th>CheckPoint3</th>\n",
       "      <th>CheckPoint2_66</th>\n",
       "    </tr>\n",
       "  </thead>\n",
       "  <tbody>\n",
       "    <tr>\n",
       "      <th>0</th>\n",
       "      <td>ComplexTrack</td>\n",
       "      <td>Gauss</td>\n",
       "      <td>28.24</td>\n",
       "      <td>67.27</td>\n",
       "      <td>4.66</td>\n",
       "      <td>12.59</td>\n",
       "      <td>10.76</td>\n",
       "      <td>20.19</td>\n",
       "      <td>24.54</td>\n",
       "      <td>0</td>\n",
       "    </tr>\n",
       "    <tr>\n",
       "      <th>1</th>\n",
       "      <td>OvalTrack</td>\n",
       "      <td>Gauss</td>\n",
       "      <td>23.23</td>\n",
       "      <td>78.27</td>\n",
       "      <td>4.68</td>\n",
       "      <td>11.36</td>\n",
       "      <td>9.75</td>\n",
       "      <td>14.94</td>\n",
       "      <td>20.85</td>\n",
       "      <td>1</td>\n",
       "    </tr>\n",
       "    <tr>\n",
       "      <th>2</th>\n",
       "      <td>ComplexTrack</td>\n",
       "      <td>Gauss</td>\n",
       "      <td>30.57</td>\n",
       "      <td>68.47</td>\n",
       "      <td>4.65</td>\n",
       "      <td>12.39</td>\n",
       "      <td>11.00</td>\n",
       "      <td>20.95</td>\n",
       "      <td>26.61</td>\n",
       "      <td>0</td>\n",
       "    </tr>\n",
       "    <tr>\n",
       "      <th>3</th>\n",
       "      <td>ComplexTrack</td>\n",
       "      <td>Gauss</td>\n",
       "      <td>26.77</td>\n",
       "      <td>74.97</td>\n",
       "      <td>4.68</td>\n",
       "      <td>12.33</td>\n",
       "      <td>10.55</td>\n",
       "      <td>19.18</td>\n",
       "      <td>23.20</td>\n",
       "      <td>0</td>\n",
       "    </tr>\n",
       "    <tr>\n",
       "      <th>4</th>\n",
       "      <td>ComplexTrack</td>\n",
       "      <td>Nightingale</td>\n",
       "      <td>28.25</td>\n",
       "      <td>72.90</td>\n",
       "      <td>5.48</td>\n",
       "      <td>16.37</td>\n",
       "      <td>11.64</td>\n",
       "      <td>20.74</td>\n",
       "      <td>24.33</td>\n",
       "      <td>0</td>\n",
       "    </tr>\n",
       "    <tr>\n",
       "      <th>...</th>\n",
       "      <td>...</td>\n",
       "      <td>...</td>\n",
       "      <td>...</td>\n",
       "      <td>...</td>\n",
       "      <td>...</td>\n",
       "      <td>...</td>\n",
       "      <td>...</td>\n",
       "      <td>...</td>\n",
       "      <td>...</td>\n",
       "      <td>...</td>\n",
       "    </tr>\n",
       "    <tr>\n",
       "      <th>1355</th>\n",
       "      <td>OvalTrack</td>\n",
       "      <td>Bayes</td>\n",
       "      <td>27.64</td>\n",
       "      <td>66.59</td>\n",
       "      <td>4.27</td>\n",
       "      <td>22.19</td>\n",
       "      <td>9.94</td>\n",
       "      <td>18.80</td>\n",
       "      <td>25.46</td>\n",
       "      <td>0</td>\n",
       "    </tr>\n",
       "    <tr>\n",
       "      <th>1356</th>\n",
       "      <td>ComplexTrack</td>\n",
       "      <td>Nightingale</td>\n",
       "      <td>28.25</td>\n",
       "      <td>73.77</td>\n",
       "      <td>5.44</td>\n",
       "      <td>15.79</td>\n",
       "      <td>11.74</td>\n",
       "      <td>21.01</td>\n",
       "      <td>24.93</td>\n",
       "      <td>0</td>\n",
       "    </tr>\n",
       "    <tr>\n",
       "      <th>1357</th>\n",
       "      <td>ComplexTrack</td>\n",
       "      <td>Bayes</td>\n",
       "      <td>27.84</td>\n",
       "      <td>66.15</td>\n",
       "      <td>4.24</td>\n",
       "      <td>15.89</td>\n",
       "      <td>10.58</td>\n",
       "      <td>19.89</td>\n",
       "      <td>23.74</td>\n",
       "      <td>0</td>\n",
       "    </tr>\n",
       "    <tr>\n",
       "      <th>1358</th>\n",
       "      <td>ComplexTrack</td>\n",
       "      <td>Nightingale</td>\n",
       "      <td>29.24</td>\n",
       "      <td>66.37</td>\n",
       "      <td>5.50</td>\n",
       "      <td>16.67</td>\n",
       "      <td>11.55</td>\n",
       "      <td>20.76</td>\n",
       "      <td>25.20</td>\n",
       "      <td>0</td>\n",
       "    </tr>\n",
       "    <tr>\n",
       "      <th>1359</th>\n",
       "      <td>OvalTrack</td>\n",
       "      <td>Nightingale</td>\n",
       "      <td>24.18</td>\n",
       "      <td>73.95</td>\n",
       "      <td>5.44</td>\n",
       "      <td>14.53</td>\n",
       "      <td>7.04</td>\n",
       "      <td>10.35</td>\n",
       "      <td>12.98</td>\n",
       "      <td>1</td>\n",
       "    </tr>\n",
       "  </tbody>\n",
       "</table>\n",
       "<p>1360 rows × 10 columns</p>\n",
       "</div>"
      ],
      "text/plain": [
       "             Track       Engine  FinishTime  TopSpeedReached  TimeTo30  \\\n",
       "0     ComplexTrack        Gauss       28.24            67.27      4.66   \n",
       "1        OvalTrack        Gauss       23.23            78.27      4.68   \n",
       "2     ComplexTrack        Gauss       30.57            68.47      4.65   \n",
       "3     ComplexTrack        Gauss       26.77            74.97      4.68   \n",
       "4     ComplexTrack  Nightingale       28.25            72.90      5.48   \n",
       "...            ...          ...         ...              ...       ...   \n",
       "1355     OvalTrack        Bayes       27.64            66.59      4.27   \n",
       "1356  ComplexTrack  Nightingale       28.25            73.77      5.44   \n",
       "1357  ComplexTrack        Bayes       27.84            66.15      4.24   \n",
       "1358  ComplexTrack  Nightingale       29.24            66.37      5.50   \n",
       "1359     OvalTrack  Nightingale       24.18            73.95      5.44   \n",
       "\n",
       "      TimeTo60  CheckPoint1  CheckPoint2  CheckPoint3  CheckPoint2_66  \n",
       "0        12.59        10.76        20.19        24.54               0  \n",
       "1        11.36         9.75        14.94        20.85               1  \n",
       "2        12.39        11.00        20.95        26.61               0  \n",
       "3        12.33        10.55        19.18        23.20               0  \n",
       "4        16.37        11.64        20.74        24.33               0  \n",
       "...        ...          ...          ...          ...             ...  \n",
       "1355     22.19         9.94        18.80        25.46               0  \n",
       "1356     15.79        11.74        21.01        24.93               0  \n",
       "1357     15.89        10.58        19.89        23.74               0  \n",
       "1358     16.67        11.55        20.76        25.20               0  \n",
       "1359     14.53         7.04        10.35        12.98               1  \n",
       "\n",
       "[1360 rows x 10 columns]"
      ]
     },
     "execution_count": 9,
     "metadata": {},
     "output_type": "execute_result"
    }
   ],
   "source": [
    "racing"
   ]
  },
  {
   "cell_type": "code",
   "execution_count": 15,
   "metadata": {},
   "outputs": [
    {
     "data": {
      "text/plain": [
       "['Track',\n",
       " 'Engine',\n",
       " 'FinishTime',\n",
       " 'TopSpeedReached',\n",
       " 'TimeTo30',\n",
       " 'TimeTo60',\n",
       " 'CheckPoint1',\n",
       " 'CheckPoint2',\n",
       " 'CheckPoint3',\n",
       " 'CheckPoint2_66']"
      ]
     },
     "execution_count": 15,
     "metadata": {},
     "output_type": "execute_result"
    }
   ],
   "source": [
    "## obtain list of variable names \n",
    "list(racing)"
   ]
  },
  {
   "cell_type": "code",
   "execution_count": 16,
   "metadata": {},
   "outputs": [
    {
     "data": {
      "text/plain": [
       "1360"
      ]
     },
     "execution_count": 16,
     "metadata": {},
     "output_type": "execute_result"
    }
   ],
   "source": [
    "## obtain the number of observations\n",
    "## recall rows = 0 and columns = 1\n",
    "racing.shape[0]"
   ]
  },
  {
   "cell_type": "code",
   "execution_count": 17,
   "metadata": {},
   "outputs": [
    {
     "data": {
      "text/plain": [
       "10"
      ]
     },
     "execution_count": 17,
     "metadata": {},
     "output_type": "execute_result"
    }
   ],
   "source": [
    "## number of columns\n",
    "racing.shape[1]"
   ]
  },
  {
   "cell_type": "code",
   "execution_count": 19,
   "metadata": {},
   "outputs": [
    {
     "data": {
      "text/plain": [
       "Track               object\n",
       "Engine              object\n",
       "FinishTime         float64\n",
       "TopSpeedReached    float64\n",
       "TimeTo30           float64\n",
       "TimeTo60           float64\n",
       "CheckPoint1        float64\n",
       "CheckPoint2        float64\n",
       "CheckPoint3        float64\n",
       "CheckPoint2_66       int64\n",
       "dtype: object"
      ]
     },
     "execution_count": 19,
     "metadata": {},
     "output_type": "execute_result"
    }
   ],
   "source": [
    "## the data types of each column\n",
    "racing.dtypes"
   ]
  },
  {
   "cell_type": "code",
   "execution_count": 20,
   "metadata": {},
   "outputs": [
    {
     "name": "stdout",
     "output_type": "stream",
     "text": [
      "<class 'pandas.core.frame.DataFrame'>\n",
      "RangeIndex: 1360 entries, 0 to 1359\n",
      "Data columns (total 10 columns):\n",
      " #   Column           Non-Null Count  Dtype  \n",
      "---  ------           --------------  -----  \n",
      " 0   Track            1360 non-null   object \n",
      " 1   Engine           1360 non-null   object \n",
      " 2   FinishTime       1360 non-null   float64\n",
      " 3   TopSpeedReached  1360 non-null   float64\n",
      " 4   TimeTo30         1360 non-null   float64\n",
      " 5   TimeTo60         1360 non-null   float64\n",
      " 6   CheckPoint1      1360 non-null   float64\n",
      " 7   CheckPoint2      1360 non-null   float64\n",
      " 8   CheckPoint3      1360 non-null   float64\n",
      " 9   CheckPoint2_66   1360 non-null   int64  \n",
      "dtypes: float64(7), int64(1), object(2)\n",
      "memory usage: 106.4+ KB\n"
     ]
    }
   ],
   "source": [
    "## get info about the data\n",
    "racing.info()"
   ]
  },
  {
   "cell_type": "code",
   "execution_count": 25,
   "metadata": {},
   "outputs": [],
   "source": [
    "## get single variable/column\n",
    "tracks = racing['Track']"
   ]
  },
  {
   "cell_type": "code",
   "execution_count": 28,
   "metadata": {},
   "outputs": [
    {
     "data": {
      "text/plain": [
       "array(['ComplexTrack', 'OvalTrack', 'StraightTrack'], dtype=object)"
      ]
     },
     "execution_count": 28,
     "metadata": {},
     "output_type": "execute_result"
    }
   ],
   "source": [
    "## show the unique values in racing track\n",
    "tracks.unique()"
   ]
  },
  {
   "cell_type": "code",
   "execution_count": 29,
   "metadata": {},
   "outputs": [
    {
     "data": {
      "text/plain": [
       "Track              ComplexTrack\n",
       "Engine              Nightingale\n",
       "FinishTime                28.25\n",
       "TopSpeedReached            72.9\n",
       "TimeTo30                   5.48\n",
       "TimeTo60                  16.37\n",
       "CheckPoint1               11.64\n",
       "CheckPoint2               20.74\n",
       "CheckPoint3               24.33\n",
       "CheckPoint2_66                0\n",
       "Name: 4, dtype: object"
      ]
     },
     "execution_count": 29,
     "metadata": {},
     "output_type": "execute_result"
    }
   ],
   "source": [
    "## extract row 5 of the data\n",
    "racing.iloc[4]"
   ]
  },
  {
   "cell_type": "code",
   "execution_count": 30,
   "metadata": {},
   "outputs": [
    {
     "data": {
      "text/html": [
       "<div>\n",
       "<style scoped>\n",
       "    .dataframe tbody tr th:only-of-type {\n",
       "        vertical-align: middle;\n",
       "    }\n",
       "\n",
       "    .dataframe tbody tr th {\n",
       "        vertical-align: top;\n",
       "    }\n",
       "\n",
       "    .dataframe thead th {\n",
       "        text-align: right;\n",
       "    }\n",
       "</style>\n",
       "<table border=\"1\" class=\"dataframe\">\n",
       "  <thead>\n",
       "    <tr style=\"text-align: right;\">\n",
       "      <th></th>\n",
       "      <th>Track</th>\n",
       "      <th>Engine</th>\n",
       "      <th>FinishTime</th>\n",
       "      <th>TopSpeedReached</th>\n",
       "      <th>TimeTo30</th>\n",
       "      <th>TimeTo60</th>\n",
       "      <th>CheckPoint1</th>\n",
       "      <th>CheckPoint2</th>\n",
       "      <th>CheckPoint3</th>\n",
       "      <th>CheckPoint2_66</th>\n",
       "    </tr>\n",
       "  </thead>\n",
       "  <tbody>\n",
       "    <tr>\n",
       "      <th>4</th>\n",
       "      <td>ComplexTrack</td>\n",
       "      <td>Nightingale</td>\n",
       "      <td>28.25</td>\n",
       "      <td>72.90</td>\n",
       "      <td>5.48</td>\n",
       "      <td>16.37</td>\n",
       "      <td>11.64</td>\n",
       "      <td>20.74</td>\n",
       "      <td>24.33</td>\n",
       "      <td>0</td>\n",
       "    </tr>\n",
       "    <tr>\n",
       "      <th>6</th>\n",
       "      <td>OvalTrack</td>\n",
       "      <td>Nightingale</td>\n",
       "      <td>23.98</td>\n",
       "      <td>76.37</td>\n",
       "      <td>5.45</td>\n",
       "      <td>14.50</td>\n",
       "      <td>6.98</td>\n",
       "      <td>10.26</td>\n",
       "      <td>12.90</td>\n",
       "      <td>1</td>\n",
       "    </tr>\n",
       "    <tr>\n",
       "      <th>9</th>\n",
       "      <td>StraightTrack</td>\n",
       "      <td>Nightingale</td>\n",
       "      <td>18.46</td>\n",
       "      <td>68.64</td>\n",
       "      <td>5.42</td>\n",
       "      <td>15.08</td>\n",
       "      <td>8.32</td>\n",
       "      <td>12.52</td>\n",
       "      <td>15.91</td>\n",
       "      <td>0</td>\n",
       "    </tr>\n",
       "  </tbody>\n",
       "</table>\n",
       "</div>"
      ],
      "text/plain": [
       "           Track       Engine  FinishTime  TopSpeedReached  TimeTo30  \\\n",
       "4   ComplexTrack  Nightingale       28.25            72.90      5.48   \n",
       "6      OvalTrack  Nightingale       23.98            76.37      5.45   \n",
       "9  StraightTrack  Nightingale       18.46            68.64      5.42   \n",
       "\n",
       "   TimeTo60  CheckPoint1  CheckPoint2  CheckPoint3  CheckPoint2_66  \n",
       "4     16.37        11.64        20.74        24.33               0  \n",
       "6     14.50         6.98        10.26        12.90               1  \n",
       "9     15.08         8.32        12.52        15.91               0  "
      ]
     },
     "execution_count": 30,
     "metadata": {},
     "output_type": "execute_result"
    }
   ],
   "source": [
    "## extracting multiple rows\n",
    "racing.iloc[[4, 6, 9]]"
   ]
  },
  {
   "cell_type": "code",
   "execution_count": 34,
   "metadata": {},
   "outputs": [],
   "source": [
    "## subset the dataset to only contail the races on the 'Ova\n",
    "racing_oval = racing.loc[racing['Track'] == 'OvalTrack', :]"
   ]
  },
  {
   "cell_type": "code",
   "execution_count": 35,
   "metadata": {},
   "outputs": [
    {
     "data": {
      "text/html": [
       "<div>\n",
       "<style scoped>\n",
       "    .dataframe tbody tr th:only-of-type {\n",
       "        vertical-align: middle;\n",
       "    }\n",
       "\n",
       "    .dataframe tbody tr th {\n",
       "        vertical-align: top;\n",
       "    }\n",
       "\n",
       "    .dataframe thead th {\n",
       "        text-align: right;\n",
       "    }\n",
       "</style>\n",
       "<table border=\"1\" class=\"dataframe\">\n",
       "  <thead>\n",
       "    <tr style=\"text-align: right;\">\n",
       "      <th></th>\n",
       "      <th>Track</th>\n",
       "      <th>Engine</th>\n",
       "      <th>FinishTime</th>\n",
       "      <th>TopSpeedReached</th>\n",
       "      <th>TimeTo30</th>\n",
       "      <th>TimeTo60</th>\n",
       "      <th>CheckPoint1</th>\n",
       "      <th>CheckPoint2</th>\n",
       "      <th>CheckPoint3</th>\n",
       "      <th>CheckPoint2_66</th>\n",
       "    </tr>\n",
       "  </thead>\n",
       "  <tbody>\n",
       "    <tr>\n",
       "      <th>1</th>\n",
       "      <td>OvalTrack</td>\n",
       "      <td>Gauss</td>\n",
       "      <td>23.23</td>\n",
       "      <td>78.27</td>\n",
       "      <td>4.68</td>\n",
       "      <td>11.36</td>\n",
       "      <td>9.75</td>\n",
       "      <td>14.94</td>\n",
       "      <td>20.85</td>\n",
       "      <td>1</td>\n",
       "    </tr>\n",
       "    <tr>\n",
       "      <th>5</th>\n",
       "      <td>OvalTrack</td>\n",
       "      <td>Bayes</td>\n",
       "      <td>24.08</td>\n",
       "      <td>69.21</td>\n",
       "      <td>4.32</td>\n",
       "      <td>13.60</td>\n",
       "      <td>9.75</td>\n",
       "      <td>15.67</td>\n",
       "      <td>22.02</td>\n",
       "      <td>1</td>\n",
       "    </tr>\n",
       "    <tr>\n",
       "      <th>6</th>\n",
       "      <td>OvalTrack</td>\n",
       "      <td>Nightingale</td>\n",
       "      <td>23.98</td>\n",
       "      <td>76.37</td>\n",
       "      <td>5.45</td>\n",
       "      <td>14.50</td>\n",
       "      <td>6.98</td>\n",
       "      <td>10.26</td>\n",
       "      <td>12.90</td>\n",
       "      <td>1</td>\n",
       "    </tr>\n",
       "    <tr>\n",
       "      <th>11</th>\n",
       "      <td>OvalTrack</td>\n",
       "      <td>Gauss</td>\n",
       "      <td>28.97</td>\n",
       "      <td>71.35</td>\n",
       "      <td>3.81</td>\n",
       "      <td>8.79</td>\n",
       "      <td>8.82</td>\n",
       "      <td>18.34</td>\n",
       "      <td>26.75</td>\n",
       "      <td>1</td>\n",
       "    </tr>\n",
       "    <tr>\n",
       "      <th>14</th>\n",
       "      <td>OvalTrack</td>\n",
       "      <td>Nightingale</td>\n",
       "      <td>25.64</td>\n",
       "      <td>74.88</td>\n",
       "      <td>6.86</td>\n",
       "      <td>16.47</td>\n",
       "      <td>12.00</td>\n",
       "      <td>18.10</td>\n",
       "      <td>23.72</td>\n",
       "      <td>0</td>\n",
       "    </tr>\n",
       "    <tr>\n",
       "      <th>...</th>\n",
       "      <td>...</td>\n",
       "      <td>...</td>\n",
       "      <td>...</td>\n",
       "      <td>...</td>\n",
       "      <td>...</td>\n",
       "      <td>...</td>\n",
       "      <td>...</td>\n",
       "      <td>...</td>\n",
       "      <td>...</td>\n",
       "      <td>...</td>\n",
       "    </tr>\n",
       "    <tr>\n",
       "      <th>1342</th>\n",
       "      <td>OvalTrack</td>\n",
       "      <td>Nightingale</td>\n",
       "      <td>26.28</td>\n",
       "      <td>69.18</td>\n",
       "      <td>5.44</td>\n",
       "      <td>14.85</td>\n",
       "      <td>10.61</td>\n",
       "      <td>16.66</td>\n",
       "      <td>23.73</td>\n",
       "      <td>1</td>\n",
       "    </tr>\n",
       "    <tr>\n",
       "      <th>1345</th>\n",
       "      <td>OvalTrack</td>\n",
       "      <td>Bayes</td>\n",
       "      <td>23.10</td>\n",
       "      <td>69.76</td>\n",
       "      <td>4.22</td>\n",
       "      <td>13.54</td>\n",
       "      <td>9.44</td>\n",
       "      <td>15.40</td>\n",
       "      <td>21.05</td>\n",
       "      <td>0</td>\n",
       "    </tr>\n",
       "    <tr>\n",
       "      <th>1352</th>\n",
       "      <td>OvalTrack</td>\n",
       "      <td>Gauss</td>\n",
       "      <td>24.02</td>\n",
       "      <td>68.58</td>\n",
       "      <td>4.64</td>\n",
       "      <td>11.32</td>\n",
       "      <td>9.83</td>\n",
       "      <td>15.14</td>\n",
       "      <td>21.49</td>\n",
       "      <td>1</td>\n",
       "    </tr>\n",
       "    <tr>\n",
       "      <th>1355</th>\n",
       "      <td>OvalTrack</td>\n",
       "      <td>Bayes</td>\n",
       "      <td>27.64</td>\n",
       "      <td>66.59</td>\n",
       "      <td>4.27</td>\n",
       "      <td>22.19</td>\n",
       "      <td>9.94</td>\n",
       "      <td>18.80</td>\n",
       "      <td>25.46</td>\n",
       "      <td>0</td>\n",
       "    </tr>\n",
       "    <tr>\n",
       "      <th>1359</th>\n",
       "      <td>OvalTrack</td>\n",
       "      <td>Nightingale</td>\n",
       "      <td>24.18</td>\n",
       "      <td>73.95</td>\n",
       "      <td>5.44</td>\n",
       "      <td>14.53</td>\n",
       "      <td>7.04</td>\n",
       "      <td>10.35</td>\n",
       "      <td>12.98</td>\n",
       "      <td>1</td>\n",
       "    </tr>\n",
       "  </tbody>\n",
       "</table>\n",
       "<p>446 rows × 10 columns</p>\n",
       "</div>"
      ],
      "text/plain": [
       "          Track       Engine  FinishTime  TopSpeedReached  TimeTo30  TimeTo60  \\\n",
       "1     OvalTrack        Gauss       23.23            78.27      4.68     11.36   \n",
       "5     OvalTrack        Bayes       24.08            69.21      4.32     13.60   \n",
       "6     OvalTrack  Nightingale       23.98            76.37      5.45     14.50   \n",
       "11    OvalTrack        Gauss       28.97            71.35      3.81      8.79   \n",
       "14    OvalTrack  Nightingale       25.64            74.88      6.86     16.47   \n",
       "...         ...          ...         ...              ...       ...       ...   \n",
       "1342  OvalTrack  Nightingale       26.28            69.18      5.44     14.85   \n",
       "1345  OvalTrack        Bayes       23.10            69.76      4.22     13.54   \n",
       "1352  OvalTrack        Gauss       24.02            68.58      4.64     11.32   \n",
       "1355  OvalTrack        Bayes       27.64            66.59      4.27     22.19   \n",
       "1359  OvalTrack  Nightingale       24.18            73.95      5.44     14.53   \n",
       "\n",
       "      CheckPoint1  CheckPoint2  CheckPoint3  CheckPoint2_66  \n",
       "1            9.75        14.94        20.85               1  \n",
       "5            9.75        15.67        22.02               1  \n",
       "6            6.98        10.26        12.90               1  \n",
       "11           8.82        18.34        26.75               1  \n",
       "14          12.00        18.10        23.72               0  \n",
       "...           ...          ...          ...             ...  \n",
       "1342        10.61        16.66        23.73               1  \n",
       "1345         9.44        15.40        21.05               0  \n",
       "1352         9.83        15.14        21.49               1  \n",
       "1355         9.94        18.80        25.46               0  \n",
       "1359         7.04        10.35        12.98               1  \n",
       "\n",
       "[446 rows x 10 columns]"
      ]
     },
     "execution_count": 35,
     "metadata": {},
     "output_type": "execute_result"
    }
   ],
   "source": [
    "racing_oval"
   ]
  },
  {
   "cell_type": "code",
   "execution_count": 33,
   "metadata": {},
   "outputs": [],
   "source": [
    "tr = ['StraightTrack', 'OvalTrack']\n",
    "racing_oval_staight = racing.loc[racing['Track'].isin(tr), :]"
   ]
  },
  {
   "cell_type": "code",
   "execution_count": null,
   "metadata": {},
   "outputs": [],
   "source": []
  }
 ],
 "metadata": {
  "kernelspec": {
   "display_name": "base",
   "language": "python",
   "name": "python3"
  },
  "language_info": {
   "codemirror_mode": {
    "name": "ipython",
    "version": 3
   },
   "file_extension": ".py",
   "mimetype": "text/x-python",
   "name": "python",
   "nbconvert_exporter": "python",
   "pygments_lexer": "ipython3",
   "version": "3.12.7"
  }
 },
 "nbformat": 4,
 "nbformat_minor": 2
}
