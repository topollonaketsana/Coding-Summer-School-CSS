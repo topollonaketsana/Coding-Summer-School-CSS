{
 "cells": [
  {
   "cell_type": "code",
   "execution_count": 84,
   "metadata": {},
   "outputs": [],
   "source": [
    "## Exploratory Data Analysis"
   ]
  },
  {
   "cell_type": "code",
   "execution_count": 85,
   "metadata": {},
   "outputs": [],
   "source": [
    "import numpy as np \n",
    "import pandas as pd\n",
    "import seaborn as sns\n",
    "import matplotlib.pyplot as plt"
   ]
  },
  {
   "cell_type": "code",
   "execution_count": 86,
   "metadata": {},
   "outputs": [],
   "source": [
    "## import data\n",
    "animals = pd.read_csv('super-animals.csv')"
   ]
  },
  {
   "cell_type": "code",
   "execution_count": 87,
   "metadata": {},
   "outputs": [
    {
     "data": {
      "text/html": [
       "<div>\n",
       "<style scoped>\n",
       "    .dataframe tbody tr th:only-of-type {\n",
       "        vertical-align: middle;\n",
       "    }\n",
       "\n",
       "    .dataframe tbody tr th {\n",
       "        vertical-align: top;\n",
       "    }\n",
       "\n",
       "    .dataframe thead th {\n",
       "        text-align: right;\n",
       "    }\n",
       "</style>\n",
       "<table border=\"1\" class=\"dataframe\">\n",
       "  <thead>\n",
       "    <tr style=\"text-align: right;\">\n",
       "      <th></th>\n",
       "      <th>Number</th>\n",
       "      <th>Animal</th>\n",
       "      <th>Category</th>\n",
       "      <th>Species</th>\n",
       "      <th>Age</th>\n",
       "      <th>Weight</th>\n",
       "      <th>Size</th>\n",
       "      <th>Speed</th>\n",
       "      <th>Vulnerability</th>\n",
       "      <th>Updated</th>\n",
       "    </tr>\n",
       "  </thead>\n",
       "  <tbody>\n",
       "    <tr>\n",
       "      <th>0</th>\n",
       "      <td>1</td>\n",
       "      <td>White headed vulture</td>\n",
       "      <td>Savanna</td>\n",
       "      <td>Bird</td>\n",
       "      <td>20.0</td>\n",
       "      <td>4.7</td>\n",
       "      <td>85.0</td>\n",
       "      <td>48.0</td>\n",
       "      <td>1</td>\n",
       "      <td>No</td>\n",
       "    </tr>\n",
       "    <tr>\n",
       "      <th>1</th>\n",
       "      <td>2</td>\n",
       "      <td>Secretarybird</td>\n",
       "      <td>Savanna</td>\n",
       "      <td>Bird</td>\n",
       "      <td>12.0</td>\n",
       "      <td>4.0</td>\n",
       "      <td>152.0</td>\n",
       "      <td>65.0</td>\n",
       "      <td>2</td>\n",
       "      <td>Yes</td>\n",
       "    </tr>\n",
       "    <tr>\n",
       "      <th>2</th>\n",
       "      <td>3</td>\n",
       "      <td>Kudu</td>\n",
       "      <td>Savanna</td>\n",
       "      <td>Mammal</td>\n",
       "      <td>15.0</td>\n",
       "      <td>227.0</td>\n",
       "      <td>240.0</td>\n",
       "      <td>70.0</td>\n",
       "      <td>4</td>\n",
       "      <td>Yes</td>\n",
       "    </tr>\n",
       "    <tr>\n",
       "      <th>3</th>\n",
       "      <td>4</td>\n",
       "      <td>Blue wildebeest</td>\n",
       "      <td>Savanna</td>\n",
       "      <td>Mammal</td>\n",
       "      <td>20.0</td>\n",
       "      <td>250.0</td>\n",
       "      <td>240.0</td>\n",
       "      <td>80.0</td>\n",
       "      <td>4</td>\n",
       "      <td>No</td>\n",
       "    </tr>\n",
       "    <tr>\n",
       "      <th>4</th>\n",
       "      <td>5</td>\n",
       "      <td>Giraffe</td>\n",
       "      <td>Savanna</td>\n",
       "      <td>Mammal</td>\n",
       "      <td>25.0</td>\n",
       "      <td>828.0</td>\n",
       "      <td>505.0</td>\n",
       "      <td>56.0</td>\n",
       "      <td>4</td>\n",
       "      <td>No</td>\n",
       "    </tr>\n",
       "    <tr>\n",
       "      <th>...</th>\n",
       "      <td>...</td>\n",
       "      <td>...</td>\n",
       "      <td>...</td>\n",
       "      <td>...</td>\n",
       "      <td>...</td>\n",
       "      <td>...</td>\n",
       "      <td>...</td>\n",
       "      <td>...</td>\n",
       "      <td>...</td>\n",
       "      <td>...</td>\n",
       "    </tr>\n",
       "    <tr>\n",
       "      <th>103</th>\n",
       "      <td>104</td>\n",
       "      <td>Atlantic herring</td>\n",
       "      <td>Ocean</td>\n",
       "      <td>Fish</td>\n",
       "      <td>20.0</td>\n",
       "      <td>1.0</td>\n",
       "      <td>39.0</td>\n",
       "      <td>4.0</td>\n",
       "      <td>4</td>\n",
       "      <td>Yes</td>\n",
       "    </tr>\n",
       "    <tr>\n",
       "      <th>104</th>\n",
       "      <td>105</td>\n",
       "      <td>Cusk eel</td>\n",
       "      <td>Ocean</td>\n",
       "      <td>Fish</td>\n",
       "      <td>30.0</td>\n",
       "      <td>25.0</td>\n",
       "      <td>200.0</td>\n",
       "      <td>4.0</td>\n",
       "      <td>4</td>\n",
       "      <td>No</td>\n",
       "    </tr>\n",
       "    <tr>\n",
       "      <th>105</th>\n",
       "      <td>106</td>\n",
       "      <td>Oyster toadfish</td>\n",
       "      <td>Ocean</td>\n",
       "      <td>Fish</td>\n",
       "      <td>8.0</td>\n",
       "      <td>0.6</td>\n",
       "      <td>38.0</td>\n",
       "      <td>9.0</td>\n",
       "      <td>4</td>\n",
       "      <td>No</td>\n",
       "    </tr>\n",
       "    <tr>\n",
       "      <th>106</th>\n",
       "      <td>107</td>\n",
       "      <td>Cape rock lobster</td>\n",
       "      <td>Ocean</td>\n",
       "      <td>Crustacean</td>\n",
       "      <td>50.0</td>\n",
       "      <td>5.0</td>\n",
       "      <td>46.0</td>\n",
       "      <td>18.0</td>\n",
       "      <td>4</td>\n",
       "      <td>No</td>\n",
       "    </tr>\n",
       "    <tr>\n",
       "      <th>107</th>\n",
       "      <td>108</td>\n",
       "      <td>Bottlenose dolphin</td>\n",
       "      <td>Ocean</td>\n",
       "      <td>Mammal</td>\n",
       "      <td>35.0</td>\n",
       "      <td>300.0</td>\n",
       "      <td>400.0</td>\n",
       "      <td>35.0</td>\n",
       "      <td>4</td>\n",
       "      <td>No</td>\n",
       "    </tr>\n",
       "  </tbody>\n",
       "</table>\n",
       "<p>108 rows × 10 columns</p>\n",
       "</div>"
      ],
      "text/plain": [
       "     Number                Animal Category     Species   Age  Weight   Size  \\\n",
       "0         1  White headed vulture  Savanna        Bird  20.0     4.7   85.0   \n",
       "1         2         Secretarybird  Savanna        Bird  12.0     4.0  152.0   \n",
       "2         3                  Kudu  Savanna      Mammal  15.0   227.0  240.0   \n",
       "3         4       Blue wildebeest  Savanna      Mammal  20.0   250.0  240.0   \n",
       "4         5               Giraffe  Savanna      Mammal  25.0   828.0  505.0   \n",
       "..      ...                   ...      ...         ...   ...     ...    ...   \n",
       "103     104      Atlantic herring    Ocean        Fish  20.0     1.0   39.0   \n",
       "104     105              Cusk eel    Ocean        Fish  30.0    25.0  200.0   \n",
       "105     106       Oyster toadfish    Ocean        Fish   8.0     0.6   38.0   \n",
       "106     107     Cape rock lobster    Ocean  Crustacean  50.0     5.0   46.0   \n",
       "107     108    Bottlenose dolphin    Ocean      Mammal  35.0   300.0  400.0   \n",
       "\n",
       "     Speed  Vulnerability Updated  \n",
       "0     48.0              1      No  \n",
       "1     65.0              2     Yes  \n",
       "2     70.0              4     Yes  \n",
       "3     80.0              4      No  \n",
       "4     56.0              4      No  \n",
       "..     ...            ...     ...  \n",
       "103    4.0              4     Yes  \n",
       "104    4.0              4      No  \n",
       "105    9.0              4      No  \n",
       "106   18.0              4      No  \n",
       "107   35.0              4      No  \n",
       "\n",
       "[108 rows x 10 columns]"
      ]
     },
     "execution_count": 87,
     "metadata": {},
     "output_type": "execute_result"
    }
   ],
   "source": [
    "## look at data\n",
    "animals"
   ]
  },
  {
   "cell_type": "code",
   "execution_count": 88,
   "metadata": {},
   "outputs": [
    {
     "data": {
      "text/plain": [
       "['Number',\n",
       " 'Animal',\n",
       " 'Category',\n",
       " 'Species',\n",
       " 'Age',\n",
       " 'Weight',\n",
       " 'Size',\n",
       " 'Speed',\n",
       " 'Vulnerability',\n",
       " 'Updated']"
      ]
     },
     "execution_count": 88,
     "metadata": {},
     "output_type": "execute_result"
    }
   ],
   "source": [
    "## list variable names\n",
    "list(animals)"
   ]
  },
  {
   "cell_type": "code",
   "execution_count": 89,
   "metadata": {},
   "outputs": [
    {
     "data": {
      "text/plain": [
       "(108, 10)"
      ]
     },
     "execution_count": 89,
     "metadata": {},
     "output_type": "execute_result"
    }
   ],
   "source": [
    "## shape of data\n",
    "animals.shape"
   ]
  },
  {
   "cell_type": "code",
   "execution_count": 90,
   "metadata": {},
   "outputs": [
    {
     "name": "stdout",
     "output_type": "stream",
     "text": [
      "<class 'pandas.core.frame.DataFrame'>\n",
      "RangeIndex: 108 entries, 0 to 107\n",
      "Data columns (total 10 columns):\n",
      " #   Column         Non-Null Count  Dtype  \n",
      "---  ------         --------------  -----  \n",
      " 0   Number         108 non-null    int64  \n",
      " 1   Animal         108 non-null    object \n",
      " 2   Category       108 non-null    object \n",
      " 3   Species        108 non-null    object \n",
      " 4   Age            108 non-null    float64\n",
      " 5   Weight         108 non-null    float64\n",
      " 6   Size           108 non-null    float64\n",
      " 7   Speed          108 non-null    float64\n",
      " 8   Vulnerability  108 non-null    int64  \n",
      " 9   Updated        108 non-null    object \n",
      "dtypes: float64(4), int64(2), object(4)\n",
      "memory usage: 8.6+ KB\n"
     ]
    }
   ],
   "source": [
    "## info\n",
    "animals.info()"
   ]
  },
  {
   "cell_type": "code",
   "execution_count": 91,
   "metadata": {},
   "outputs": [
    {
     "data": {
      "text/html": [
       "<div>\n",
       "<style scoped>\n",
       "    .dataframe tbody tr th:only-of-type {\n",
       "        vertical-align: middle;\n",
       "    }\n",
       "\n",
       "    .dataframe tbody tr th {\n",
       "        vertical-align: top;\n",
       "    }\n",
       "\n",
       "    .dataframe thead th {\n",
       "        text-align: right;\n",
       "    }\n",
       "</style>\n",
       "<table border=\"1\" class=\"dataframe\">\n",
       "  <thead>\n",
       "    <tr style=\"text-align: right;\">\n",
       "      <th></th>\n",
       "      <th>Number</th>\n",
       "      <th>Age</th>\n",
       "      <th>Weight</th>\n",
       "      <th>Size</th>\n",
       "      <th>Speed</th>\n",
       "      <th>Vulnerability</th>\n",
       "    </tr>\n",
       "  </thead>\n",
       "  <tbody>\n",
       "    <tr>\n",
       "      <th>count</th>\n",
       "      <td>108.00000</td>\n",
       "      <td>108.000000</td>\n",
       "      <td>108.000000</td>\n",
       "      <td>108.000000</td>\n",
       "      <td>108.000000</td>\n",
       "      <td>108.000000</td>\n",
       "    </tr>\n",
       "    <tr>\n",
       "      <th>mean</th>\n",
       "      <td>54.50000</td>\n",
       "      <td>20.283324</td>\n",
       "      <td>1427.288688</td>\n",
       "      <td>160.615741</td>\n",
       "      <td>41.152778</td>\n",
       "      <td>3.518519</td>\n",
       "    </tr>\n",
       "    <tr>\n",
       "      <th>std</th>\n",
       "      <td>31.32092</td>\n",
       "      <td>16.629752</td>\n",
       "      <td>9050.828306</td>\n",
       "      <td>260.339232</td>\n",
       "      <td>26.606905</td>\n",
       "      <td>0.932101</td>\n",
       "    </tr>\n",
       "    <tr>\n",
       "      <th>min</th>\n",
       "      <td>1.00000</td>\n",
       "      <td>0.083000</td>\n",
       "      <td>0.000100</td>\n",
       "      <td>0.300000</td>\n",
       "      <td>0.500000</td>\n",
       "      <td>1.000000</td>\n",
       "    </tr>\n",
       "    <tr>\n",
       "      <th>25%</th>\n",
       "      <td>27.75000</td>\n",
       "      <td>10.000000</td>\n",
       "      <td>0.361250</td>\n",
       "      <td>35.000000</td>\n",
       "      <td>19.750000</td>\n",
       "      <td>4.000000</td>\n",
       "    </tr>\n",
       "    <tr>\n",
       "      <th>50%</th>\n",
       "      <td>54.50000</td>\n",
       "      <td>15.000000</td>\n",
       "      <td>3.500000</td>\n",
       "      <td>84.500000</td>\n",
       "      <td>40.000000</td>\n",
       "      <td>4.000000</td>\n",
       "    </tr>\n",
       "    <tr>\n",
       "      <th>75%</th>\n",
       "      <td>81.25000</td>\n",
       "      <td>23.250000</td>\n",
       "      <td>50.825000</td>\n",
       "      <td>164.000000</td>\n",
       "      <td>55.000000</td>\n",
       "      <td>4.000000</td>\n",
       "    </tr>\n",
       "    <tr>\n",
       "      <th>max</th>\n",
       "      <td>108.00000</td>\n",
       "      <td>100.000000</td>\n",
       "      <td>80000.000000</td>\n",
       "      <td>1800.000000</td>\n",
       "      <td>160.000000</td>\n",
       "      <td>4.000000</td>\n",
       "    </tr>\n",
       "  </tbody>\n",
       "</table>\n",
       "</div>"
      ],
      "text/plain": [
       "          Number         Age        Weight         Size       Speed  \\\n",
       "count  108.00000  108.000000    108.000000   108.000000  108.000000   \n",
       "mean    54.50000   20.283324   1427.288688   160.615741   41.152778   \n",
       "std     31.32092   16.629752   9050.828306   260.339232   26.606905   \n",
       "min      1.00000    0.083000      0.000100     0.300000    0.500000   \n",
       "25%     27.75000   10.000000      0.361250    35.000000   19.750000   \n",
       "50%     54.50000   15.000000      3.500000    84.500000   40.000000   \n",
       "75%     81.25000   23.250000     50.825000   164.000000   55.000000   \n",
       "max    108.00000  100.000000  80000.000000  1800.000000  160.000000   \n",
       "\n",
       "       Vulnerability  \n",
       "count     108.000000  \n",
       "mean        3.518519  \n",
       "std         0.932101  \n",
       "min         1.000000  \n",
       "25%         4.000000  \n",
       "50%         4.000000  \n",
       "75%         4.000000  \n",
       "max         4.000000  "
      ]
     },
     "execution_count": 91,
     "metadata": {},
     "output_type": "execute_result"
    }
   ],
   "source": [
    "## describe the numerical\n",
    "animals.describe()"
   ]
  },
  {
   "cell_type": "code",
   "execution_count": 92,
   "metadata": {},
   "outputs": [
    {
     "data": {
      "text/plain": [
       "Number             int64\n",
       "Animal            object\n",
       "Category          object\n",
       "Species           object\n",
       "Age              float64\n",
       "Weight           float64\n",
       "Size             float64\n",
       "Speed            float64\n",
       "Vulnerability      int64\n",
       "Updated           object\n",
       "dtype: object"
      ]
     },
     "execution_count": 92,
     "metadata": {},
     "output_type": "execute_result"
    }
   ],
   "source": [
    "animals.dtypes"
   ]
  },
  {
   "cell_type": "code",
   "execution_count": null,
   "metadata": {},
   "outputs": [],
   "source": []
  },
  {
   "cell_type": "markdown",
   "metadata": {},
   "source": [
    "#### Visualisations"
   ]
  },
  {
   "cell_type": "code",
   "execution_count": 93,
   "metadata": {},
   "outputs": [
    {
     "data": {
      "image/png": "[encoded data removed]",
      "text/plain": [
       "<Figure size 640x480 with 1 Axes>"
      ]
     },
     "metadata": {},
     "output_type": "display_data"
    }
   ],
   "source": [
    "## draw hist plot\n",
    "size = sns.histplot(data= animals, x= 'Size', \n",
    "                    color= 'lightblue', edgecolor= 'b',\n",
    "                    bins= 20)\n",
    "size.set(ylabel= 'Frequency', title= 'Histogram of the size of animals (in cm)')\n",
    "\n",
    "plt.show()"
   ]
  },
  {
   "cell_type": "code",
   "execution_count": 94,
   "metadata": {},
   "outputs": [
    {
     "data": {
      "image/png": "[encoded data removed]",
      "text/plain": [
       "<Figure size 640x480 with 1 Axes>"
      ]
     },
     "metadata": {},
     "output_type": "display_data"
    }
   ],
   "source": [
    "## make a frequency table from species\n",
    "species = animals['Species'].value_counts()\n",
    "\n",
    "## calculate the proportions\n",
    "species_proportions = animals['Species'].value_counts(normalize= True)\n",
    "\n",
    "## draw a barplot of animal species included in the \n",
    "spec = sns.barplot(x= species.index, y= species.values\n",
    "                   )\n",
    "spec.set(ylabel= 'Frequency', \n",
    "         title= 'Barplot of the species of animals')\n",
    "\n",
    "plt.show()"
   ]
  },
  {
   "cell_type": "code",
   "execution_count": 95,
   "metadata": {},
   "outputs": [],
   "source": [
    "## frequency table of categories and species\n",
    "twoway = pd.crosstab(animals['Category'], animals['Species'])"
   ]
  },
  {
   "cell_type": "code",
   "execution_count": 96,
   "metadata": {},
   "outputs": [
    {
     "data": {
      "text/html": [
       "<div>\n",
       "<style scoped>\n",
       "    .dataframe tbody tr th:only-of-type {\n",
       "        vertical-align: middle;\n",
       "    }\n",
       "\n",
       "    .dataframe tbody tr th {\n",
       "        vertical-align: top;\n",
       "    }\n",
       "\n",
       "    .dataframe thead th {\n",
       "        text-align: right;\n",
       "    }\n",
       "</style>\n",
       "<table border=\"1\" class=\"dataframe\">\n",
       "  <thead>\n",
       "    <tr style=\"text-align: right;\">\n",
       "      <th>Species</th>\n",
       "      <th>Amphibian</th>\n",
       "      <th>Bird</th>\n",
       "      <th>Crustacean</th>\n",
       "      <th>Fish</th>\n",
       "      <th>Insect</th>\n",
       "      <th>Mammal</th>\n",
       "      <th>Reptile</th>\n",
       "    </tr>\n",
       "    <tr>\n",
       "      <th>Category</th>\n",
       "      <th></th>\n",
       "      <th></th>\n",
       "      <th></th>\n",
       "      <th></th>\n",
       "      <th></th>\n",
       "      <th></th>\n",
       "      <th></th>\n",
       "    </tr>\n",
       "  </thead>\n",
       "  <tbody>\n",
       "    <tr>\n",
       "      <th>Coast</th>\n",
       "      <td>0</td>\n",
       "      <td>6</td>\n",
       "      <td>1</td>\n",
       "      <td>0</td>\n",
       "      <td>1</td>\n",
       "      <td>4</td>\n",
       "      <td>0</td>\n",
       "    </tr>\n",
       "    <tr>\n",
       "      <th>Forest</th>\n",
       "      <td>0</td>\n",
       "      <td>3</td>\n",
       "      <td>0</td>\n",
       "      <td>0</td>\n",
       "      <td>1</td>\n",
       "      <td>7</td>\n",
       "      <td>1</td>\n",
       "    </tr>\n",
       "    <tr>\n",
       "      <th>Fynbos</th>\n",
       "      <td>2</td>\n",
       "      <td>5</td>\n",
       "      <td>0</td>\n",
       "      <td>0</td>\n",
       "      <td>0</td>\n",
       "      <td>3</td>\n",
       "      <td>2</td>\n",
       "    </tr>\n",
       "    <tr>\n",
       "      <th>Nama Karoo</th>\n",
       "      <td>0</td>\n",
       "      <td>2</td>\n",
       "      <td>0</td>\n",
       "      <td>0</td>\n",
       "      <td>0</td>\n",
       "      <td>8</td>\n",
       "      <td>2</td>\n",
       "    </tr>\n",
       "    <tr>\n",
       "      <th>Ocean</th>\n",
       "      <td>0</td>\n",
       "      <td>0</td>\n",
       "      <td>3</td>\n",
       "      <td>4</td>\n",
       "      <td>0</td>\n",
       "      <td>5</td>\n",
       "      <td>0</td>\n",
       "    </tr>\n",
       "    <tr>\n",
       "      <th>Savanna</th>\n",
       "      <td>0</td>\n",
       "      <td>3</td>\n",
       "      <td>0</td>\n",
       "      <td>0</td>\n",
       "      <td>1</td>\n",
       "      <td>8</td>\n",
       "      <td>0</td>\n",
       "    </tr>\n",
       "    <tr>\n",
       "      <th>Succulent Karoo</th>\n",
       "      <td>0</td>\n",
       "      <td>1</td>\n",
       "      <td>0</td>\n",
       "      <td>0</td>\n",
       "      <td>2</td>\n",
       "      <td>7</td>\n",
       "      <td>2</td>\n",
       "    </tr>\n",
       "    <tr>\n",
       "      <th>Thicket</th>\n",
       "      <td>0</td>\n",
       "      <td>8</td>\n",
       "      <td>0</td>\n",
       "      <td>0</td>\n",
       "      <td>0</td>\n",
       "      <td>4</td>\n",
       "      <td>0</td>\n",
       "    </tr>\n",
       "    <tr>\n",
       "      <th>Wetland</th>\n",
       "      <td>0</td>\n",
       "      <td>8</td>\n",
       "      <td>0</td>\n",
       "      <td>0</td>\n",
       "      <td>0</td>\n",
       "      <td>3</td>\n",
       "      <td>1</td>\n",
       "    </tr>\n",
       "  </tbody>\n",
       "</table>\n",
       "</div>"
      ],
      "text/plain": [
       "Species          Amphibian  Bird  Crustacean  Fish  Insect  Mammal  Reptile\n",
       "Category                                                                   \n",
       "Coast                    0     6           1     0       1       4        0\n",
       "Forest                   0     3           0     0       1       7        1\n",
       "Fynbos                   2     5           0     0       0       3        2\n",
       "Nama Karoo               0     2           0     0       0       8        2\n",
       "Ocean                    0     0           3     4       0       5        0\n",
       "Savanna                  0     3           0     0       1       8        0\n",
       "Succulent Karoo          0     1           0     0       2       7        2\n",
       "Thicket                  0     8           0     0       0       4        0\n",
       "Wetland                  0     8           0     0       0       3        1"
      ]
     },
     "execution_count": 96,
     "metadata": {},
     "output_type": "execute_result"
    }
   ],
   "source": [
    "twoway"
   ]
  },
  {
   "cell_type": "code",
   "execution_count": 97,
   "metadata": {},
   "outputs": [
    {
     "data": {
      "text/plain": [
       "0      1\n",
       "1      2\n",
       "2      4\n",
       "3      4\n",
       "4      4\n",
       "      ..\n",
       "103    4\n",
       "104    4\n",
       "105    4\n",
       "106    4\n",
       "107    4\n",
       "Name: Vulnerability, Length: 108, dtype: int64"
      ]
     },
     "execution_count": 97,
     "metadata": {},
     "output_type": "execute_result"
    }
   ],
   "source": [
    "animals['Vulnerability']"
   ]
  },
  {
   "cell_type": "code",
   "execution_count": 98,
   "metadata": {},
   "outputs": [],
   "source": [
    "## recode the vulnerability column\n",
    "## 1 - Critically Endangered (CR)\n",
    "## 2 - Vulnerable (VU)\n",
    "## 3 - Near Threatened (NT)\n",
    "## 4 - Least Concern (LC)\n",
    "\n",
    "recode_dict = {\n",
    "              1: 'CR',\n",
    "              2: 'VU',\n",
    "              3: 'NT',\n",
    "              4: 'LC'\n",
    "}"
   ]
  },
  {
   "cell_type": "code",
   "execution_count": 99,
   "metadata": {},
   "outputs": [],
   "source": [
    "animals['Vulnerability'] = animals['Vulnerability'].map(recode_dict)"
   ]
  },
  {
   "cell_type": "code",
   "execution_count": 100,
   "metadata": {},
   "outputs": [
    {
     "data": {
      "text/plain": [
       "0      CR\n",
       "1      VU\n",
       "2      LC\n",
       "3      LC\n",
       "4      LC\n",
       "       ..\n",
       "103    LC\n",
       "104    LC\n",
       "105    LC\n",
       "106    LC\n",
       "107    LC\n",
       "Name: Vulnerability, Length: 108, dtype: object"
      ]
     },
     "execution_count": 100,
     "metadata": {},
     "output_type": "execute_result"
    }
   ],
   "source": [
    "animals['Vulnerability']"
   ]
  },
  {
   "cell_type": "code",
   "execution_count": 101,
   "metadata": {},
   "outputs": [],
   "source": [
    "## create a data set that only contains the birds (subset)\n",
    "birds = animals.loc[animals['Species'] == 'Bird', :]"
   ]
  },
  {
   "cell_type": "code",
   "execution_count": 102,
   "metadata": {},
   "outputs": [
    {
     "data": {
      "text/html": [
       "<div>\n",
       "<style scoped>\n",
       "    .dataframe tbody tr th:only-of-type {\n",
       "        vertical-align: middle;\n",
       "    }\n",
       "\n",
       "    .dataframe tbody tr th {\n",
       "        vertical-align: top;\n",
       "    }\n",
       "\n",
       "    .dataframe thead th {\n",
       "        text-align: right;\n",
       "    }\n",
       "</style>\n",
       "<table border=\"1\" class=\"dataframe\">\n",
       "  <thead>\n",
       "    <tr style=\"text-align: right;\">\n",
       "      <th></th>\n",
       "      <th>Number</th>\n",
       "      <th>Animal</th>\n",
       "      <th>Category</th>\n",
       "      <th>Species</th>\n",
       "      <th>Age</th>\n",
       "      <th>Weight</th>\n",
       "      <th>Size</th>\n",
       "      <th>Speed</th>\n",
       "      <th>Vulnerability</th>\n",
       "      <th>Updated</th>\n",
       "    </tr>\n",
       "  </thead>\n",
       "  <tbody>\n",
       "    <tr>\n",
       "      <th>0</th>\n",
       "      <td>1</td>\n",
       "      <td>White headed vulture</td>\n",
       "      <td>Savanna</td>\n",
       "      <td>Bird</td>\n",
       "      <td>20.0</td>\n",
       "      <td>4.700</td>\n",
       "      <td>85.0</td>\n",
       "      <td>48.0</td>\n",
       "      <td>CR</td>\n",
       "      <td>No</td>\n",
       "    </tr>\n",
       "    <tr>\n",
       "      <th>1</th>\n",
       "      <td>2</td>\n",
       "      <td>Secretarybird</td>\n",
       "      <td>Savanna</td>\n",
       "      <td>Bird</td>\n",
       "      <td>12.0</td>\n",
       "      <td>4.000</td>\n",
       "      <td>152.0</td>\n",
       "      <td>65.0</td>\n",
       "      <td>VU</td>\n",
       "      <td>Yes</td>\n",
       "    </tr>\n",
       "    <tr>\n",
       "      <th>9</th>\n",
       "      <td>10</td>\n",
       "      <td>Lilac breasted roller</td>\n",
       "      <td>Savanna</td>\n",
       "      <td>Bird</td>\n",
       "      <td>15.0</td>\n",
       "      <td>0.100</td>\n",
       "      <td>38.0</td>\n",
       "      <td>54.0</td>\n",
       "      <td>LC</td>\n",
       "      <td>No</td>\n",
       "    </tr>\n",
       "    <tr>\n",
       "      <th>13</th>\n",
       "      <td>14</td>\n",
       "      <td>African jacana</td>\n",
       "      <td>Wetland</td>\n",
       "      <td>Bird</td>\n",
       "      <td>6.5</td>\n",
       "      <td>0.140</td>\n",
       "      <td>32.0</td>\n",
       "      <td>80.0</td>\n",
       "      <td>LC</td>\n",
       "      <td>Yes</td>\n",
       "    </tr>\n",
       "    <tr>\n",
       "      <th>14</th>\n",
       "      <td>15</td>\n",
       "      <td>Greater flamingo</td>\n",
       "      <td>Wetland</td>\n",
       "      <td>Bird</td>\n",
       "      <td>30.0</td>\n",
       "      <td>3.500</td>\n",
       "      <td>150.0</td>\n",
       "      <td>50.0</td>\n",
       "      <td>LC</td>\n",
       "      <td>Yes</td>\n",
       "    </tr>\n",
       "    <tr>\n",
       "      <th>15</th>\n",
       "      <td>16</td>\n",
       "      <td>Blue crane</td>\n",
       "      <td>Wetland</td>\n",
       "      <td>Bird</td>\n",
       "      <td>30.0</td>\n",
       "      <td>5.090</td>\n",
       "      <td>120.0</td>\n",
       "      <td>40.0</td>\n",
       "      <td>VU</td>\n",
       "      <td>Yes</td>\n",
       "    </tr>\n",
       "    <tr>\n",
       "      <th>17</th>\n",
       "      <td>18</td>\n",
       "      <td>Giant kingfisher</td>\n",
       "      <td>Wetland</td>\n",
       "      <td>Bird</td>\n",
       "      <td>10.0</td>\n",
       "      <td>0.375</td>\n",
       "      <td>46.0</td>\n",
       "      <td>40.0</td>\n",
       "      <td>LC</td>\n",
       "      <td>Yes</td>\n",
       "    </tr>\n",
       "    <tr>\n",
       "      <th>19</th>\n",
       "      <td>20</td>\n",
       "      <td>Southern bald ibis</td>\n",
       "      <td>Wetland</td>\n",
       "      <td>Bird</td>\n",
       "      <td>15.0</td>\n",
       "      <td>1.100</td>\n",
       "      <td>80.0</td>\n",
       "      <td>35.0</td>\n",
       "      <td>VU</td>\n",
       "      <td>Yes</td>\n",
       "    </tr>\n",
       "    <tr>\n",
       "      <th>20</th>\n",
       "      <td>21</td>\n",
       "      <td>African fish eagle</td>\n",
       "      <td>Wetland</td>\n",
       "      <td>Bird</td>\n",
       "      <td>24.0</td>\n",
       "      <td>2.500</td>\n",
       "      <td>75.0</td>\n",
       "      <td>80.0</td>\n",
       "      <td>LC</td>\n",
       "      <td>Yes</td>\n",
       "    </tr>\n",
       "    <tr>\n",
       "      <th>22</th>\n",
       "      <td>23</td>\n",
       "      <td>Brown hooded kingfisher</td>\n",
       "      <td>Wetland</td>\n",
       "      <td>Bird</td>\n",
       "      <td>20.0</td>\n",
       "      <td>0.580</td>\n",
       "      <td>23.0</td>\n",
       "      <td>17.0</td>\n",
       "      <td>LC</td>\n",
       "      <td>No</td>\n",
       "    </tr>\n",
       "    <tr>\n",
       "      <th>23</th>\n",
       "      <td>24</td>\n",
       "      <td>Yellow-billed duck</td>\n",
       "      <td>Wetland</td>\n",
       "      <td>Bird</td>\n",
       "      <td>30.0</td>\n",
       "      <td>0.900</td>\n",
       "      <td>59.0</td>\n",
       "      <td>50.0</td>\n",
       "      <td>LC</td>\n",
       "      <td>Yes</td>\n",
       "    </tr>\n",
       "    <tr>\n",
       "      <th>24</th>\n",
       "      <td>25</td>\n",
       "      <td>Crested barbet</td>\n",
       "      <td>Thicket</td>\n",
       "      <td>Bird</td>\n",
       "      <td>10.0</td>\n",
       "      <td>0.070</td>\n",
       "      <td>24.0</td>\n",
       "      <td>40.0</td>\n",
       "      <td>LC</td>\n",
       "      <td>Yes</td>\n",
       "    </tr>\n",
       "    <tr>\n",
       "      <th>26</th>\n",
       "      <td>27</td>\n",
       "      <td>Rock kestrel</td>\n",
       "      <td>Thicket</td>\n",
       "      <td>Bird</td>\n",
       "      <td>15.0</td>\n",
       "      <td>0.230</td>\n",
       "      <td>39.0</td>\n",
       "      <td>65.0</td>\n",
       "      <td>LC</td>\n",
       "      <td>Yes</td>\n",
       "    </tr>\n",
       "    <tr>\n",
       "      <th>27</th>\n",
       "      <td>28</td>\n",
       "      <td>Southern carmine bee-eater</td>\n",
       "      <td>Thicket</td>\n",
       "      <td>Bird</td>\n",
       "      <td>7.0</td>\n",
       "      <td>0.600</td>\n",
       "      <td>35.0</td>\n",
       "      <td>42.0</td>\n",
       "      <td>LC</td>\n",
       "      <td>Yes</td>\n",
       "    </tr>\n",
       "    <tr>\n",
       "      <th>28</th>\n",
       "      <td>29</td>\n",
       "      <td>Pale chanting goshwak</td>\n",
       "      <td>Thicket</td>\n",
       "      <td>Bird</td>\n",
       "      <td>19.0</td>\n",
       "      <td>0.900</td>\n",
       "      <td>60.0</td>\n",
       "      <td>60.0</td>\n",
       "      <td>LC</td>\n",
       "      <td>Yes</td>\n",
       "    </tr>\n",
       "    <tr>\n",
       "      <th>32</th>\n",
       "      <td>33</td>\n",
       "      <td>Orange breasted sunbird</td>\n",
       "      <td>Thicket</td>\n",
       "      <td>Bird</td>\n",
       "      <td>3.6</td>\n",
       "      <td>0.110</td>\n",
       "      <td>17.0</td>\n",
       "      <td>50.0</td>\n",
       "      <td>LC</td>\n",
       "      <td>No</td>\n",
       "    </tr>\n",
       "    <tr>\n",
       "      <th>33</th>\n",
       "      <td>34</td>\n",
       "      <td>Cape eagle-owl</td>\n",
       "      <td>Thicket</td>\n",
       "      <td>Bird</td>\n",
       "      <td>10.0</td>\n",
       "      <td>1.800</td>\n",
       "      <td>61.0</td>\n",
       "      <td>80.0</td>\n",
       "      <td>LC</td>\n",
       "      <td>No</td>\n",
       "    </tr>\n",
       "    <tr>\n",
       "      <th>34</th>\n",
       "      <td>35</td>\n",
       "      <td>Crowned eagle</td>\n",
       "      <td>Thicket</td>\n",
       "      <td>Bird</td>\n",
       "      <td>15.0</td>\n",
       "      <td>3.600</td>\n",
       "      <td>90.0</td>\n",
       "      <td>160.0</td>\n",
       "      <td>NT</td>\n",
       "      <td>Yes</td>\n",
       "    </tr>\n",
       "    <tr>\n",
       "      <th>35</th>\n",
       "      <td>36</td>\n",
       "      <td>Hadeda ibis</td>\n",
       "      <td>Thicket</td>\n",
       "      <td>Bird</td>\n",
       "      <td>20.0</td>\n",
       "      <td>1.200</td>\n",
       "      <td>89.0</td>\n",
       "      <td>78.0</td>\n",
       "      <td>LC</td>\n",
       "      <td>Yes</td>\n",
       "    </tr>\n",
       "    <tr>\n",
       "      <th>38</th>\n",
       "      <td>39</td>\n",
       "      <td>Helmeted guineafowl</td>\n",
       "      <td>Nama Karoo</td>\n",
       "      <td>Bird</td>\n",
       "      <td>15.0</td>\n",
       "      <td>1.500</td>\n",
       "      <td>58.0</td>\n",
       "      <td>35.0</td>\n",
       "      <td>LC</td>\n",
       "      <td>Yes</td>\n",
       "    </tr>\n",
       "    <tr>\n",
       "      <th>47</th>\n",
       "      <td>48</td>\n",
       "      <td>Red lark</td>\n",
       "      <td>Nama Karoo</td>\n",
       "      <td>Bird</td>\n",
       "      <td>8.0</td>\n",
       "      <td>0.370</td>\n",
       "      <td>19.0</td>\n",
       "      <td>28.0</td>\n",
       "      <td>VU</td>\n",
       "      <td>Yes</td>\n",
       "    </tr>\n",
       "    <tr>\n",
       "      <th>54</th>\n",
       "      <td>55</td>\n",
       "      <td>Karoo long-billed lark</td>\n",
       "      <td>Succulent Karoo</td>\n",
       "      <td>Bird</td>\n",
       "      <td>6.0</td>\n",
       "      <td>0.450</td>\n",
       "      <td>22.0</td>\n",
       "      <td>40.0</td>\n",
       "      <td>LC</td>\n",
       "      <td>Yes</td>\n",
       "    </tr>\n",
       "    <tr>\n",
       "      <th>60</th>\n",
       "      <td>61</td>\n",
       "      <td>Knysna turaco</td>\n",
       "      <td>Forest</td>\n",
       "      <td>Bird</td>\n",
       "      <td>30.0</td>\n",
       "      <td>0.310</td>\n",
       "      <td>46.0</td>\n",
       "      <td>30.0</td>\n",
       "      <td>LC</td>\n",
       "      <td>Yes</td>\n",
       "    </tr>\n",
       "    <tr>\n",
       "      <th>68</th>\n",
       "      <td>69</td>\n",
       "      <td>African wood owl</td>\n",
       "      <td>Forest</td>\n",
       "      <td>Bird</td>\n",
       "      <td>15.0</td>\n",
       "      <td>0.335</td>\n",
       "      <td>33.0</td>\n",
       "      <td>80.0</td>\n",
       "      <td>LC</td>\n",
       "      <td>Yes</td>\n",
       "    </tr>\n",
       "    <tr>\n",
       "      <th>70</th>\n",
       "      <td>71</td>\n",
       "      <td>Pink-throated twinspot</td>\n",
       "      <td>Forest</td>\n",
       "      <td>Bird</td>\n",
       "      <td>8.0</td>\n",
       "      <td>0.010</td>\n",
       "      <td>13.5</td>\n",
       "      <td>40.0</td>\n",
       "      <td>LC</td>\n",
       "      <td>No</td>\n",
       "    </tr>\n",
       "    <tr>\n",
       "      <th>75</th>\n",
       "      <td>76</td>\n",
       "      <td>Cape gannet</td>\n",
       "      <td>Fynbos</td>\n",
       "      <td>Bird</td>\n",
       "      <td>17.0</td>\n",
       "      <td>2.600</td>\n",
       "      <td>94.0</td>\n",
       "      <td>120.0</td>\n",
       "      <td>VU</td>\n",
       "      <td>No</td>\n",
       "    </tr>\n",
       "    <tr>\n",
       "      <th>76</th>\n",
       "      <td>77</td>\n",
       "      <td>Arctic tern</td>\n",
       "      <td>Fynbos</td>\n",
       "      <td>Bird</td>\n",
       "      <td>29.0</td>\n",
       "      <td>0.102</td>\n",
       "      <td>34.0</td>\n",
       "      <td>40.0</td>\n",
       "      <td>LC</td>\n",
       "      <td>Yes</td>\n",
       "    </tr>\n",
       "    <tr>\n",
       "      <th>77</th>\n",
       "      <td>78</td>\n",
       "      <td>Cape siskin</td>\n",
       "      <td>Fynbos</td>\n",
       "      <td>Bird</td>\n",
       "      <td>2.0</td>\n",
       "      <td>0.011</td>\n",
       "      <td>13.0</td>\n",
       "      <td>40.0</td>\n",
       "      <td>LC</td>\n",
       "      <td>Yes</td>\n",
       "    </tr>\n",
       "    <tr>\n",
       "      <th>78</th>\n",
       "      <td>79</td>\n",
       "      <td>Common ostrich</td>\n",
       "      <td>Fynbos</td>\n",
       "      <td>Bird</td>\n",
       "      <td>60.0</td>\n",
       "      <td>150.000</td>\n",
       "      <td>200.0</td>\n",
       "      <td>70.0</td>\n",
       "      <td>LC</td>\n",
       "      <td>Yes</td>\n",
       "    </tr>\n",
       "    <tr>\n",
       "      <th>83</th>\n",
       "      <td>84</td>\n",
       "      <td>Cape sugarbird</td>\n",
       "      <td>Fynbos</td>\n",
       "      <td>Bird</td>\n",
       "      <td>7.0</td>\n",
       "      <td>0.037</td>\n",
       "      <td>44.0</td>\n",
       "      <td>35.0</td>\n",
       "      <td>LC</td>\n",
       "      <td>Yes</td>\n",
       "    </tr>\n",
       "    <tr>\n",
       "      <th>84</th>\n",
       "      <td>85</td>\n",
       "      <td>African penguin</td>\n",
       "      <td>Coast</td>\n",
       "      <td>Bird</td>\n",
       "      <td>15.0</td>\n",
       "      <td>3.500</td>\n",
       "      <td>65.0</td>\n",
       "      <td>20.0</td>\n",
       "      <td>CR</td>\n",
       "      <td>Yes</td>\n",
       "    </tr>\n",
       "    <tr>\n",
       "      <th>88</th>\n",
       "      <td>89</td>\n",
       "      <td>Great white pelican</td>\n",
       "      <td>Coast</td>\n",
       "      <td>Bird</td>\n",
       "      <td>23.0</td>\n",
       "      <td>11.000</td>\n",
       "      <td>178.0</td>\n",
       "      <td>65.0</td>\n",
       "      <td>LC</td>\n",
       "      <td>Yes</td>\n",
       "    </tr>\n",
       "    <tr>\n",
       "      <th>89</th>\n",
       "      <td>90</td>\n",
       "      <td>Egyptian goose</td>\n",
       "      <td>Coast</td>\n",
       "      <td>Bird</td>\n",
       "      <td>14.0</td>\n",
       "      <td>2.350</td>\n",
       "      <td>73.0</td>\n",
       "      <td>50.0</td>\n",
       "      <td>LC</td>\n",
       "      <td>Yes</td>\n",
       "    </tr>\n",
       "    <tr>\n",
       "      <th>90</th>\n",
       "      <td>91</td>\n",
       "      <td>Kelp gull</td>\n",
       "      <td>Coast</td>\n",
       "      <td>Bird</td>\n",
       "      <td>20.0</td>\n",
       "      <td>1.300</td>\n",
       "      <td>65.0</td>\n",
       "      <td>35.0</td>\n",
       "      <td>LC</td>\n",
       "      <td>Yes</td>\n",
       "    </tr>\n",
       "    <tr>\n",
       "      <th>91</th>\n",
       "      <td>92</td>\n",
       "      <td>Curlew sandpiper</td>\n",
       "      <td>Coast</td>\n",
       "      <td>Bird</td>\n",
       "      <td>19.0</td>\n",
       "      <td>0.055</td>\n",
       "      <td>20.0</td>\n",
       "      <td>40.0</td>\n",
       "      <td>LC</td>\n",
       "      <td>Yes</td>\n",
       "    </tr>\n",
       "    <tr>\n",
       "      <th>95</th>\n",
       "      <td>96</td>\n",
       "      <td>Wandering albatross</td>\n",
       "      <td>Coast</td>\n",
       "      <td>Bird</td>\n",
       "      <td>60.0</td>\n",
       "      <td>10.000</td>\n",
       "      <td>135.0</td>\n",
       "      <td>80.0</td>\n",
       "      <td>VU</td>\n",
       "      <td>No</td>\n",
       "    </tr>\n",
       "  </tbody>\n",
       "</table>\n",
       "</div>"
      ],
      "text/plain": [
       "    Number                      Animal         Category Species   Age  \\\n",
       "0        1        White headed vulture          Savanna    Bird  20.0   \n",
       "1        2               Secretarybird          Savanna    Bird  12.0   \n",
       "9       10       Lilac breasted roller          Savanna    Bird  15.0   \n",
       "13      14              African jacana          Wetland    Bird   6.5   \n",
       "14      15            Greater flamingo          Wetland    Bird  30.0   \n",
       "15      16                  Blue crane          Wetland    Bird  30.0   \n",
       "17      18            Giant kingfisher          Wetland    Bird  10.0   \n",
       "19      20          Southern bald ibis          Wetland    Bird  15.0   \n",
       "20      21          African fish eagle          Wetland    Bird  24.0   \n",
       "22      23     Brown hooded kingfisher          Wetland    Bird  20.0   \n",
       "23      24          Yellow-billed duck          Wetland    Bird  30.0   \n",
       "24      25              Crested barbet          Thicket    Bird  10.0   \n",
       "26      27                Rock kestrel          Thicket    Bird  15.0   \n",
       "27      28  Southern carmine bee-eater          Thicket    Bird   7.0   \n",
       "28      29       Pale chanting goshwak          Thicket    Bird  19.0   \n",
       "32      33     Orange breasted sunbird          Thicket    Bird   3.6   \n",
       "33      34              Cape eagle-owl          Thicket    Bird  10.0   \n",
       "34      35               Crowned eagle          Thicket    Bird  15.0   \n",
       "35      36                 Hadeda ibis          Thicket    Bird  20.0   \n",
       "38      39         Helmeted guineafowl       Nama Karoo    Bird  15.0   \n",
       "47      48                    Red lark       Nama Karoo    Bird   8.0   \n",
       "54      55      Karoo long-billed lark  Succulent Karoo    Bird   6.0   \n",
       "60      61               Knysna turaco           Forest    Bird  30.0   \n",
       "68      69            African wood owl           Forest    Bird  15.0   \n",
       "70      71      Pink-throated twinspot           Forest    Bird   8.0   \n",
       "75      76                 Cape gannet           Fynbos    Bird  17.0   \n",
       "76      77                 Arctic tern           Fynbos    Bird  29.0   \n",
       "77      78                 Cape siskin           Fynbos    Bird   2.0   \n",
       "78      79              Common ostrich           Fynbos    Bird  60.0   \n",
       "83      84              Cape sugarbird           Fynbos    Bird   7.0   \n",
       "84      85             African penguin            Coast    Bird  15.0   \n",
       "88      89         Great white pelican            Coast    Bird  23.0   \n",
       "89      90              Egyptian goose            Coast    Bird  14.0   \n",
       "90      91                   Kelp gull            Coast    Bird  20.0   \n",
       "91      92            Curlew sandpiper            Coast    Bird  19.0   \n",
       "95      96         Wandering albatross            Coast    Bird  60.0   \n",
       "\n",
       "     Weight   Size  Speed Vulnerability Updated  \n",
       "0     4.700   85.0   48.0            CR      No  \n",
       "1     4.000  152.0   65.0            VU     Yes  \n",
       "9     0.100   38.0   54.0            LC      No  \n",
       "13    0.140   32.0   80.0            LC     Yes  \n",
       "14    3.500  150.0   50.0            LC     Yes  \n",
       "15    5.090  120.0   40.0            VU     Yes  \n",
       "17    0.375   46.0   40.0            LC     Yes  \n",
       "19    1.100   80.0   35.0            VU     Yes  \n",
       "20    2.500   75.0   80.0            LC     Yes  \n",
       "22    0.580   23.0   17.0            LC      No  \n",
       "23    0.900   59.0   50.0            LC     Yes  \n",
       "24    0.070   24.0   40.0            LC     Yes  \n",
       "26    0.230   39.0   65.0            LC     Yes  \n",
       "27    0.600   35.0   42.0            LC     Yes  \n",
       "28    0.900   60.0   60.0            LC     Yes  \n",
       "32    0.110   17.0   50.0            LC      No  \n",
       "33    1.800   61.0   80.0            LC      No  \n",
       "34    3.600   90.0  160.0            NT     Yes  \n",
       "35    1.200   89.0   78.0            LC     Yes  \n",
       "38    1.500   58.0   35.0            LC     Yes  \n",
       "47    0.370   19.0   28.0            VU     Yes  \n",
       "54    0.450   22.0   40.0            LC     Yes  \n",
       "60    0.310   46.0   30.0            LC     Yes  \n",
       "68    0.335   33.0   80.0            LC     Yes  \n",
       "70    0.010   13.5   40.0            LC      No  \n",
       "75    2.600   94.0  120.0            VU      No  \n",
       "76    0.102   34.0   40.0            LC     Yes  \n",
       "77    0.011   13.0   40.0            LC     Yes  \n",
       "78  150.000  200.0   70.0            LC     Yes  \n",
       "83    0.037   44.0   35.0            LC     Yes  \n",
       "84    3.500   65.0   20.0            CR     Yes  \n",
       "88   11.000  178.0   65.0            LC     Yes  \n",
       "89    2.350   73.0   50.0            LC     Yes  \n",
       "90    1.300   65.0   35.0            LC     Yes  \n",
       "91    0.055   20.0   40.0            LC     Yes  \n",
       "95   10.000  135.0   80.0            VU      No  "
      ]
     },
     "execution_count": 102,
     "metadata": {},
     "output_type": "execute_result"
    }
   ],
   "source": [
    "birds"
   ]
  },
  {
   "cell_type": "code",
   "execution_count": 103,
   "metadata": {},
   "outputs": [
    {
     "data": {
      "text/plain": [
       "<Axes: xlabel='Vulnerability'>"
      ]
     },
     "execution_count": 103,
     "metadata": {},
     "output_type": "execute_result"
    },
    {
     "data": {
      "image/png": "[encoded data removed]",
      "text/plain": [
       "<Figure size 640x480 with 1 Axes>"
      ]
     },
     "metadata": {},
     "output_type": "display_data"
    }
   ],
   "source": [
    "## create a frequency table of the vulnerability indices\n",
    "birds_vulnerability = birds['Vulnerability'].value_counts()\n",
    "\n",
    "## draw barplot of vulnerability\n",
    "sns.barplot(x= birds_vulnerability.index, y= birds_vulnerability.values)\n",
    "\n",
    "## sort the vulnerability index\n",
    "birds_vulner_sorted = birds_vulnerability.reindex(['CR', 'VU', 'NT', 'LC'])\n",
    "sns.barplot(x= birds_vulner_sorted.index, y= birds_vulner_sorted.values)"
   ]
  },
  {
   "cell_type": "code",
   "execution_count": 104,
   "metadata": {},
   "outputs": [
    {
     "data": {
      "text/plain": [
       "count     36.000000\n",
       "mean      66.319444\n",
       "std       47.882170\n",
       "min       13.000000\n",
       "25%       32.750000\n",
       "50%       58.500000\n",
       "75%       86.000000\n",
       "max      200.000000\n",
       "Name: Size, dtype: float64"
      ]
     },
     "execution_count": 104,
     "metadata": {},
     "output_type": "execute_result"
    }
   ],
   "source": [
    "## obtain a quick summary of the size of the birds\n",
    "birds['Size'].describe()"
   ]
  },
  {
   "cell_type": "code",
   "execution_count": 105,
   "metadata": {},
   "outputs": [
    {
     "data": {
      "text/plain": [
       "66.31944444444444"
      ]
     },
     "execution_count": 105,
     "metadata": {},
     "output_type": "execute_result"
    }
   ],
   "source": [
    "## obtain summary of each\n",
    "## average size of the birds\n",
    "birds['Size'].mean()"
   ]
  },
  {
   "cell_type": "code",
   "execution_count": 106,
   "metadata": {},
   "outputs": [
    {
     "data": {
      "text/plain": [
       "13.0"
      ]
     },
     "execution_count": 106,
     "metadata": {},
     "output_type": "execute_result"
    }
   ],
   "source": [
    "## minimum size of the birds\n",
    "birds['Size'].min()"
   ]
  },
  {
   "cell_type": "code",
   "execution_count": 107,
   "metadata": {},
   "outputs": [
    {
     "data": {
      "text/plain": [
       "200.0"
      ]
     },
     "execution_count": 107,
     "metadata": {},
     "output_type": "execute_result"
    }
   ],
   "source": [
    "## max\n",
    "birds['Size'].max()"
   ]
  },
  {
   "cell_type": "code",
   "execution_count": 108,
   "metadata": {},
   "outputs": [
    {
     "data": {
      "text/plain": [
       "47.882169776856216"
      ]
     },
     "execution_count": 108,
     "metadata": {},
     "output_type": "execute_result"
    }
   ],
   "source": [
    "## standard deviation\n",
    "birds['Size'].std()"
   ]
  },
  {
   "cell_type": "code",
   "execution_count": 109,
   "metadata": {},
   "outputs": [
    {
     "data": {
      "text/plain": [
       "200.0"
      ]
     },
     "execution_count": 109,
     "metadata": {},
     "output_type": "execute_result"
    }
   ],
   "source": [
    "## or use the summary from describe:)\n",
    "summary = birds['Size'].describe()\n",
    "summary['max']"
   ]
  },
  {
   "cell_type": "code",
   "execution_count": 110,
   "metadata": {},
   "outputs": [
    {
     "data": {
      "text/plain": [
       "47.882169776856216"
      ]
     },
     "execution_count": 110,
     "metadata": {},
     "output_type": "execute_result"
    }
   ],
   "source": [
    "summary['std']"
   ]
  },
  {
   "cell_type": "code",
   "execution_count": 111,
   "metadata": {},
   "outputs": [
    {
     "data": {
      "text/plain": [
       "<Axes: xlabel='Size', ylabel='Count'>"
      ]
     },
     "execution_count": 111,
     "metadata": {},
     "output_type": "execute_result"
    },
    {
     "data": {
      "image/png": "[encoded data removed]",
      "text/plain": [
       "<Figure size 640x480 with 1 Axes>"
      ]
     },
     "metadata": {},
     "output_type": "display_data"
    }
   ],
   "source": [
    "## draw hist of size of the birds\n",
    "sns.histplot(data= birds, x= 'Size')"
   ]
  },
  {
   "cell_type": "code",
   "execution_count": 112,
   "metadata": {},
   "outputs": [
    {
     "data": {
      "text/plain": [
       "<Axes: xlabel='Size'>"
      ]
     },
     "execution_count": 112,
     "metadata": {},
     "output_type": "execute_result"
    },
    {
     "data": {
      "image/png": "[encoded data removed]",
      "text/plain": [
       "<Figure size 640x480 with 1 Axes>"
      ]
     },
     "metadata": {},
     "output_type": "display_data"
    }
   ],
   "source": [
    "## draw the boxplot for the size of the birds\n",
    "sns.boxplot(data= birds, x= 'Size')"
   ]
  },
  {
   "cell_type": "code",
   "execution_count": 113,
   "metadata": {},
   "outputs": [
    {
     "data": {
      "text/plain": [
       "58.5"
      ]
     },
     "execution_count": 113,
     "metadata": {},
     "output_type": "execute_result"
    }
   ],
   "source": [
    "## Median of the size of the birds\n",
    "birds['Size'].median()"
   ]
  },
  {
   "cell_type": "code",
   "execution_count": 114,
   "metadata": {},
   "outputs": [
    {
     "data": {
      "text/plain": [
       "58.5"
      ]
     },
     "execution_count": 114,
     "metadata": {},
     "output_type": "execute_result"
    }
   ],
   "source": [
    "## or use the summary for median - Q2\n",
    "summary['50%']"
   ]
  },
  {
   "cell_type": "code",
   "execution_count": 115,
   "metadata": {},
   "outputs": [
    {
     "data": {
      "text/plain": [
       "53.25"
      ]
     },
     "execution_count": 115,
     "metadata": {},
     "output_type": "execute_result"
    }
   ],
   "source": [
    "## interquatile range of the size of the birds : Q3 - Q1\n",
    "summary['75%'] - summary['25%']"
   ]
  },
  {
   "cell_type": "code",
   "execution_count": 116,
   "metadata": {},
   "outputs": [
    {
     "data": {
      "text/plain": [
       "<Axes: xlabel='Size', ylabel='Weight'>"
      ]
     },
     "execution_count": 116,
     "metadata": {},
     "output_type": "execute_result"
    },
    {
     "data": {
      "image/png": "[encoded data removed]",
      "text/plain": [
       "<Figure size 640x480 with 1 Axes>"
      ]
     },
     "metadata": {},
     "output_type": "display_data"
    }
   ],
   "source": [
    "## draw a scatter for size and the weight of the birds\n",
    "sns.scatterplot(data= birds, x= 'Size', y= 'Weight')"
   ]
  },
  {
   "cell_type": "code",
   "execution_count": 117,
   "metadata": {},
   "outputs": [],
   "source": [
    "## log transformation (Linearize) on the size and the weight\n",
    "birds_log_size = np.log(birds['Size'])\n",
    "birds_log_weight = np.log(birds['Weight'])"
   ]
  },
  {
   "cell_type": "code",
   "execution_count": 118,
   "metadata": {},
   "outputs": [
    {
     "data": {
      "text/plain": [
       "<Axes: xlabel='Size', ylabel='Weight'>"
      ]
     },
     "execution_count": 118,
     "metadata": {},
     "output_type": "execute_result"
    },
    {
     "data": {
      "image/png": "[encoded data removed]",
      "text/plain": [
       "<Figure size 640x480 with 1 Axes>"
      ]
     },
     "metadata": {},
     "output_type": "display_data"
    }
   ],
   "source": [
    "## draw scatter plot of linearized data\n",
    "sns.scatterplot(x= birds_log_size, y= birds_log_weight)"
   ]
  },
  {
   "cell_type": "code",
   "execution_count": 119,
   "metadata": {},
   "outputs": [],
   "source": [
    "## Explore Numerical data across categories\n",
    "## create a five numb summary for the \n",
    "\n",
    "sum_species = animals.groupby(['Species'])['Size'].describe()        "
   ]
  },
  {
   "cell_type": "code",
   "execution_count": 120,
   "metadata": {},
   "outputs": [
    {
     "data": {
      "text/html": [
       "<div>\n",
       "<style scoped>\n",
       "    .dataframe tbody tr th:only-of-type {\n",
       "        vertical-align: middle;\n",
       "    }\n",
       "\n",
       "    .dataframe tbody tr th {\n",
       "        vertical-align: top;\n",
       "    }\n",
       "\n",
       "    .dataframe thead th {\n",
       "        text-align: right;\n",
       "    }\n",
       "</style>\n",
       "<table border=\"1\" class=\"dataframe\">\n",
       "  <thead>\n",
       "    <tr style=\"text-align: right;\">\n",
       "      <th></th>\n",
       "      <th>count</th>\n",
       "      <th>mean</th>\n",
       "      <th>std</th>\n",
       "      <th>min</th>\n",
       "      <th>25%</th>\n",
       "      <th>50%</th>\n",
       "      <th>75%</th>\n",
       "      <th>max</th>\n",
       "    </tr>\n",
       "    <tr>\n",
       "      <th>Species</th>\n",
       "      <th></th>\n",
       "      <th></th>\n",
       "      <th></th>\n",
       "      <th></th>\n",
       "      <th></th>\n",
       "      <th></th>\n",
       "      <th></th>\n",
       "      <th></th>\n",
       "    </tr>\n",
       "  </thead>\n",
       "  <tbody>\n",
       "    <tr>\n",
       "      <th>Amphibian</th>\n",
       "      <td>2.0</td>\n",
       "      <td>10.000000</td>\n",
       "      <td>5.656854</td>\n",
       "      <td>6.0</td>\n",
       "      <td>8.00</td>\n",
       "      <td>10.0</td>\n",
       "      <td>12.0</td>\n",
       "      <td>14.0</td>\n",
       "    </tr>\n",
       "    <tr>\n",
       "      <th>Bird</th>\n",
       "      <td>36.0</td>\n",
       "      <td>66.319444</td>\n",
       "      <td>47.882170</td>\n",
       "      <td>13.0</td>\n",
       "      <td>32.75</td>\n",
       "      <td>58.5</td>\n",
       "      <td>86.0</td>\n",
       "      <td>200.0</td>\n",
       "    </tr>\n",
       "    <tr>\n",
       "      <th>Crustacean</th>\n",
       "      <td>4.0</td>\n",
       "      <td>23.500000</td>\n",
       "      <td>21.610183</td>\n",
       "      <td>5.0</td>\n",
       "      <td>5.00</td>\n",
       "      <td>21.5</td>\n",
       "      <td>40.0</td>\n",
       "      <td>46.0</td>\n",
       "    </tr>\n",
       "    <tr>\n",
       "      <th>Fish</th>\n",
       "      <td>4.0</td>\n",
       "      <td>219.250000</td>\n",
       "      <td>265.004874</td>\n",
       "      <td>38.0</td>\n",
       "      <td>38.75</td>\n",
       "      <td>119.5</td>\n",
       "      <td>300.0</td>\n",
       "      <td>600.0</td>\n",
       "    </tr>\n",
       "    <tr>\n",
       "      <th>Insect</th>\n",
       "      <td>5.0</td>\n",
       "      <td>3.600000</td>\n",
       "      <td>4.797395</td>\n",
       "      <td>0.3</td>\n",
       "      <td>1.10</td>\n",
       "      <td>1.6</td>\n",
       "      <td>3.0</td>\n",
       "      <td>12.0</td>\n",
       "    </tr>\n",
       "    <tr>\n",
       "      <th>Mammal</th>\n",
       "      <td>49.0</td>\n",
       "      <td>253.367347</td>\n",
       "      <td>342.753355</td>\n",
       "      <td>10.0</td>\n",
       "      <td>92.00</td>\n",
       "      <td>150.0</td>\n",
       "      <td>250.0</td>\n",
       "      <td>1800.0</td>\n",
       "    </tr>\n",
       "    <tr>\n",
       "      <th>Reptile</th>\n",
       "      <td>8.0</td>\n",
       "      <td>191.875000</td>\n",
       "      <td>211.641501</td>\n",
       "      <td>18.0</td>\n",
       "      <td>33.75</td>\n",
       "      <td>126.0</td>\n",
       "      <td>235.0</td>\n",
       "      <td>600.0</td>\n",
       "    </tr>\n",
       "  </tbody>\n",
       "</table>\n",
       "</div>"
      ],
      "text/plain": [
       "            count        mean         std   min    25%    50%    75%     max\n",
       "Species                                                                     \n",
       "Amphibian     2.0   10.000000    5.656854   6.0   8.00   10.0   12.0    14.0\n",
       "Bird         36.0   66.319444   47.882170  13.0  32.75   58.5   86.0   200.0\n",
       "Crustacean    4.0   23.500000   21.610183   5.0   5.00   21.5   40.0    46.0\n",
       "Fish          4.0  219.250000  265.004874  38.0  38.75  119.5  300.0   600.0\n",
       "Insect        5.0    3.600000    4.797395   0.3   1.10    1.6    3.0    12.0\n",
       "Mammal       49.0  253.367347  342.753355  10.0  92.00  150.0  250.0  1800.0\n",
       "Reptile       8.0  191.875000  211.641501  18.0  33.75  126.0  235.0   600.0"
      ]
     },
     "execution_count": 120,
     "metadata": {},
     "output_type": "execute_result"
    }
   ],
   "source": [
    "sum_species"
   ]
  },
  {
   "cell_type": "code",
   "execution_count": 121,
   "metadata": {},
   "outputs": [
    {
     "data": {
      "text/plain": [
       "Species\n",
       "Amphibian      10.000000\n",
       "Bird           66.319444\n",
       "Crustacean     23.500000\n",
       "Fish          219.250000\n",
       "Insect          3.600000\n",
       "Mammal        253.367347\n",
       "Reptile       191.875000\n",
       "Name: Size, dtype: float64"
      ]
     },
     "execution_count": 121,
     "metadata": {},
     "output_type": "execute_result"
    }
   ],
   "source": [
    "# you can find the summary stats for each animal\n",
    "animals.groupby(['Species'])['Size'].mean()"
   ]
  },
  {
   "cell_type": "code",
   "execution_count": 122,
   "metadata": {},
   "outputs": [],
   "source": [
    "## Subset the birds and the mamals\n",
    "birds_mamals = animals.loc[animals['Species'].isin(['Bird', 'Mammal']), :]"
   ]
  },
  {
   "cell_type": "code",
   "execution_count": 123,
   "metadata": {},
   "outputs": [
    {
     "data": {
      "text/html": [
       "<div>\n",
       "<style scoped>\n",
       "    .dataframe tbody tr th:only-of-type {\n",
       "        vertical-align: middle;\n",
       "    }\n",
       "\n",
       "    .dataframe tbody tr th {\n",
       "        vertical-align: top;\n",
       "    }\n",
       "\n",
       "    .dataframe thead th {\n",
       "        text-align: right;\n",
       "    }\n",
       "</style>\n",
       "<table border=\"1\" class=\"dataframe\">\n",
       "  <thead>\n",
       "    <tr style=\"text-align: right;\">\n",
       "      <th></th>\n",
       "      <th>Number</th>\n",
       "      <th>Animal</th>\n",
       "      <th>Category</th>\n",
       "      <th>Species</th>\n",
       "      <th>Age</th>\n",
       "      <th>Weight</th>\n",
       "      <th>Size</th>\n",
       "      <th>Speed</th>\n",
       "      <th>Vulnerability</th>\n",
       "      <th>Updated</th>\n",
       "    </tr>\n",
       "  </thead>\n",
       "  <tbody>\n",
       "    <tr>\n",
       "      <th>0</th>\n",
       "      <td>1</td>\n",
       "      <td>White headed vulture</td>\n",
       "      <td>Savanna</td>\n",
       "      <td>Bird</td>\n",
       "      <td>20.0</td>\n",
       "      <td>4.7</td>\n",
       "      <td>85.0</td>\n",
       "      <td>48.0</td>\n",
       "      <td>CR</td>\n",
       "      <td>No</td>\n",
       "    </tr>\n",
       "    <tr>\n",
       "      <th>1</th>\n",
       "      <td>2</td>\n",
       "      <td>Secretarybird</td>\n",
       "      <td>Savanna</td>\n",
       "      <td>Bird</td>\n",
       "      <td>12.0</td>\n",
       "      <td>4.0</td>\n",
       "      <td>152.0</td>\n",
       "      <td>65.0</td>\n",
       "      <td>VU</td>\n",
       "      <td>Yes</td>\n",
       "    </tr>\n",
       "    <tr>\n",
       "      <th>2</th>\n",
       "      <td>3</td>\n",
       "      <td>Kudu</td>\n",
       "      <td>Savanna</td>\n",
       "      <td>Mammal</td>\n",
       "      <td>15.0</td>\n",
       "      <td>227.0</td>\n",
       "      <td>240.0</td>\n",
       "      <td>70.0</td>\n",
       "      <td>LC</td>\n",
       "      <td>Yes</td>\n",
       "    </tr>\n",
       "    <tr>\n",
       "      <th>3</th>\n",
       "      <td>4</td>\n",
       "      <td>Blue wildebeest</td>\n",
       "      <td>Savanna</td>\n",
       "      <td>Mammal</td>\n",
       "      <td>20.0</td>\n",
       "      <td>250.0</td>\n",
       "      <td>240.0</td>\n",
       "      <td>80.0</td>\n",
       "      <td>LC</td>\n",
       "      <td>No</td>\n",
       "    </tr>\n",
       "    <tr>\n",
       "      <th>4</th>\n",
       "      <td>5</td>\n",
       "      <td>Giraffe</td>\n",
       "      <td>Savanna</td>\n",
       "      <td>Mammal</td>\n",
       "      <td>25.0</td>\n",
       "      <td>828.0</td>\n",
       "      <td>505.0</td>\n",
       "      <td>56.0</td>\n",
       "      <td>LC</td>\n",
       "      <td>No</td>\n",
       "    </tr>\n",
       "    <tr>\n",
       "      <th>...</th>\n",
       "      <td>...</td>\n",
       "      <td>...</td>\n",
       "      <td>...</td>\n",
       "      <td>...</td>\n",
       "      <td>...</td>\n",
       "      <td>...</td>\n",
       "      <td>...</td>\n",
       "      <td>...</td>\n",
       "      <td>...</td>\n",
       "      <td>...</td>\n",
       "    </tr>\n",
       "    <tr>\n",
       "      <th>97</th>\n",
       "      <td>98</td>\n",
       "      <td>Orca (killer whale)</td>\n",
       "      <td>Ocean</td>\n",
       "      <td>Mammal</td>\n",
       "      <td>50.0</td>\n",
       "      <td>5400.0</td>\n",
       "      <td>760.0</td>\n",
       "      <td>65.0</td>\n",
       "      <td>NT</td>\n",
       "      <td>Yes</td>\n",
       "    </tr>\n",
       "    <tr>\n",
       "      <th>99</th>\n",
       "      <td>100</td>\n",
       "      <td>Southern right whale</td>\n",
       "      <td>Ocean</td>\n",
       "      <td>Mammal</td>\n",
       "      <td>100.0</td>\n",
       "      <td>80000.0</td>\n",
       "      <td>1600.0</td>\n",
       "      <td>10.0</td>\n",
       "      <td>LC</td>\n",
       "      <td>Yes</td>\n",
       "    </tr>\n",
       "    <tr>\n",
       "      <th>101</th>\n",
       "      <td>102</td>\n",
       "      <td>Humpback whale</td>\n",
       "      <td>Ocean</td>\n",
       "      <td>Mammal</td>\n",
       "      <td>60.0</td>\n",
       "      <td>50000.0</td>\n",
       "      <td>1800.0</td>\n",
       "      <td>8.0</td>\n",
       "      <td>LC</td>\n",
       "      <td>Yes</td>\n",
       "    </tr>\n",
       "    <tr>\n",
       "      <th>102</th>\n",
       "      <td>103</td>\n",
       "      <td>Long beaked common dolphin</td>\n",
       "      <td>Ocean</td>\n",
       "      <td>Mammal</td>\n",
       "      <td>40.0</td>\n",
       "      <td>235.0</td>\n",
       "      <td>250.0</td>\n",
       "      <td>40.0</td>\n",
       "      <td>LC</td>\n",
       "      <td>Yes</td>\n",
       "    </tr>\n",
       "    <tr>\n",
       "      <th>107</th>\n",
       "      <td>108</td>\n",
       "      <td>Bottlenose dolphin</td>\n",
       "      <td>Ocean</td>\n",
       "      <td>Mammal</td>\n",
       "      <td>35.0</td>\n",
       "      <td>300.0</td>\n",
       "      <td>400.0</td>\n",
       "      <td>35.0</td>\n",
       "      <td>LC</td>\n",
       "      <td>No</td>\n",
       "    </tr>\n",
       "  </tbody>\n",
       "</table>\n",
       "<p>85 rows × 10 columns</p>\n",
       "</div>"
      ],
      "text/plain": [
       "     Number                      Animal Category Species    Age   Weight  \\\n",
       "0         1        White headed vulture  Savanna    Bird   20.0      4.7   \n",
       "1         2               Secretarybird  Savanna    Bird   12.0      4.0   \n",
       "2         3                        Kudu  Savanna  Mammal   15.0    227.0   \n",
       "3         4             Blue wildebeest  Savanna  Mammal   20.0    250.0   \n",
       "4         5                     Giraffe  Savanna  Mammal   25.0    828.0   \n",
       "..      ...                         ...      ...     ...    ...      ...   \n",
       "97       98         Orca (killer whale)    Ocean  Mammal   50.0   5400.0   \n",
       "99      100        Southern right whale    Ocean  Mammal  100.0  80000.0   \n",
       "101     102              Humpback whale    Ocean  Mammal   60.0  50000.0   \n",
       "102     103  Long beaked common dolphin    Ocean  Mammal   40.0    235.0   \n",
       "107     108          Bottlenose dolphin    Ocean  Mammal   35.0    300.0   \n",
       "\n",
       "       Size  Speed Vulnerability Updated  \n",
       "0      85.0   48.0            CR      No  \n",
       "1     152.0   65.0            VU     Yes  \n",
       "2     240.0   70.0            LC     Yes  \n",
       "3     240.0   80.0            LC      No  \n",
       "4     505.0   56.0            LC      No  \n",
       "..      ...    ...           ...     ...  \n",
       "97    760.0   65.0            NT     Yes  \n",
       "99   1600.0   10.0            LC     Yes  \n",
       "101  1800.0    8.0            LC     Yes  \n",
       "102   250.0   40.0            LC     Yes  \n",
       "107   400.0   35.0            LC      No  \n",
       "\n",
       "[85 rows x 10 columns]"
      ]
     },
     "execution_count": 123,
     "metadata": {},
     "output_type": "execute_result"
    }
   ],
   "source": [
    "birds_mamals"
   ]
  },
  {
   "cell_type": "code",
   "execution_count": 124,
   "metadata": {},
   "outputs": [
    {
     "data": {
      "text/plain": [
       "<Axes: xlabel='Size', ylabel='Species'>"
      ]
     },
     "execution_count": 124,
     "metadata": {},
     "output_type": "execute_result"
    },
    {
     "data": {
      "image/png": "[encoded data removed]",
      "text/plain": [
       "<Figure size 640x480 with 1 Axes>"
      ]
     },
     "metadata": {},
     "output_type": "display_data"
    }
   ],
   "source": [
    "## draw a side-by-side boxplot\n",
    "sns.boxplot(data= birds_mamals, \n",
    "            x= 'Size', y= 'Species')"
   ]
  },
  {
   "cell_type": "code",
   "execution_count": null,
   "metadata": {},
   "outputs": [],
   "source": []
  }
 ],
 "metadata": {
  "kernelspec": {
   "display_name": "base",
   "language": "python",
   "name": "python3"
  },
  "language_info": {
   "codemirror_mode": {
    "name": "ipython",
    "version": 3
   },
   "file_extension": ".py",
   "mimetype": "text/x-python",
   "name": "python",
   "nbconvert_exporter": "python",
   "pygments_lexer": "ipython3",
   "version": "3.12.7"
  }
 },
 "nbformat": 4,
 "nbformat_minor": 2
}
